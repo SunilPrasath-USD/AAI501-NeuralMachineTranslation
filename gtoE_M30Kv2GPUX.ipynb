{
 "cells": [
  {
   "cell_type": "code",
   "execution_count": 1,
   "id": "79b7abec-30d7-42ea-a32e-ff1c2247f120",
   "metadata": {},
   "outputs": [],
   "source": [
    "import torch\n",
    "import torch.nn as nn\n",
    "import torch.nn.functional as F\n",
    "import math\n",
    "import time\n",
    "import numpy as np\n",
    "import spacy\n",
    "import random\n",
    "from torch.nn.utils.rnn import pad_sequence\n",
    "from torch.utils.data import DataLoader, Dataset\n",
    "from torch.optim.lr_scheduler import ReduceLROnPlateau\n",
    "import os\n",
    "import re\n",
    "from torch.optim.lr_scheduler import LambdaLR\n",
    "import matplotlib.pyplot as plt\n",
    "from tqdm.notebook import tqdm\n",
    "import warnings\n",
    "warnings.filterwarnings('ignore')\n",
    "import urllib.request\n",
    "import zipfile\n",
    "import io\n",
    "from torch.cuda.amp import autocast, GradScaler"
   ]
  },
  {
   "cell_type": "code",
   "execution_count": 2,
   "id": "f58413c8-56fb-4f92-87fd-b2dcc401073b",
   "metadata": {},
   "outputs": [
    {
     "name": "stdout",
     "output_type": "stream",
     "text": [
      "Using device: cuda\n"
     ]
    }
   ],
   "source": [
    "device = torch.device('cuda' if torch.cuda.is_available() else 'cpu')\n",
    "print(f\"Using device: {device}\")"
   ]
  },
  {
   "cell_type": "code",
   "execution_count": 3,
   "id": "6c2e465c-afdd-48ad-98c4-07464f52cbd5",
   "metadata": {},
   "outputs": [],
   "source": [
    "SEED = 9191\n",
    "random.seed(SEED)\n",
    "np.random.seed(SEED)\n",
    "torch.manual_seed(SEED)\n",
    "torch.cuda.manual_seed(SEED)\n",
    "torch.backends.cudnn.deterministic = True"
   ]
  },
  {
   "cell_type": "code",
   "execution_count": 4,
   "id": "be5dc96c-1f33-4330-a72d-518b4c0425cb",
   "metadata": {},
   "outputs": [],
   "source": [
    "try:\n",
    "    spacy_de = spacy.load('de_core_news_sm')\n",
    "    spacy_en = spacy.load('en_core_web_sm')\n",
    "except OSError:\n",
    "    import subprocess\n",
    "    subprocess.run(['python3', '-m', 'spacy', 'download', 'de_core_news_sm'])\n",
    "    subprocess.run(['python3', '-m', 'spacy', 'download', 'en_core_web_sm'])\n",
    "    spacy_de = spacy.load('de_core_news_sm')\n",
    "    spacy_en = spacy.load('en_core_web_sm')\n",
    "\n",
    "def tokenize_de(text):\n",
    "    return [token.text.lower() for token in spacy_de(text)]\n",
    "\n",
    "def tokenize_en(text):\n",
    "    return [token.text.lower() for token in spacy_en(text)]\n",
    "\n",
    "# Define special tokens\n",
    "BOS_TOKEN = '<s>'\n",
    "EOS_TOKEN = '</s>'\n",
    "PAD_TOKEN = '<pad>'\n",
    "UNK_TOKEN = '<unk>'\n",
    "special_tokens = [UNK_TOKEN, PAD_TOKEN, BOS_TOKEN, EOS_TOKEN]"
   ]
  },
  {
   "cell_type": "code",
   "execution_count": 5,
   "id": "8f94a161-b014-4539-940a-d6c4ed70148f",
   "metadata": {},
   "outputs": [],
   "source": [
    "class Vocabulary:\n",
    "    def __init__(self, special_tokens=None):\n",
    "        self.token_to_idx = {}\n",
    "        self.idx_to_token = []\n",
    "        self.freqs = {}\n",
    "        \n",
    "        if special_tokens:\n",
    "            for token in special_tokens:\n",
    "                self.add_token(token)\n",
    "        \n",
    "        self.unk_idx = self.token_to_idx.get(UNK_TOKEN, 0)\n",
    "    \n",
    "    def add_token(self, token):\n",
    "        if token not in self.token_to_idx:\n",
    "            self.token_to_idx[token] = len(self.idx_to_token)\n",
    "            self.idx_to_token.append(token)\n",
    "            self.freqs[token] = 1\n",
    "        else:\n",
    "            self.freqs[token] += 1\n",
    "    \n",
    "    def __len__(self):\n",
    "        return len(self.idx_to_token)\n",
    "    \n",
    "    def __getitem__(self, token):\n",
    "        return self.token_to_idx.get(token, self.unk_idx)\n",
    "    \n",
    "    def lookup_token(self, idx):\n",
    "        if 0 <= idx < len(self.idx_to_token):\n",
    "            return self.idx_to_token[idx]\n",
    "        return self.idx_to_token[self.unk_idx]\n",
    "    \n",
    "    def lookup_tokens(self, indices):\n",
    "        return [self.lookup_token(idx) for idx in indices]\n",
    "    \n",
    "    def save(self, path):\n",
    "        torch.save({\n",
    "            'token_to_idx': self.token_to_idx,\n",
    "            'idx_to_token': self.idx_to_token,\n",
    "            'freqs': self.freqs,\n",
    "            'unk_idx': self.unk_idx\n",
    "        }, path)\n",
    "    \n",
    "    @classmethod\n",
    "    def load(cls, path):\n",
    "        data = torch.load(path)\n",
    "        vocab = cls()\n",
    "        vocab.token_to_idx = data['token_to_idx']\n",
    "        vocab.idx_to_token = data['idx_to_token']\n",
    "        vocab.freqs = data['freqs']\n",
    "        vocab.unk_idx = data['unk_idx']\n",
    "        return vocab"
   ]
  },
  {
   "cell_type": "code",
   "execution_count": 6,
   "id": "637bd6af-46d5-48ce-8490-c56f5c2282b1",
   "metadata": {},
   "outputs": [],
   "source": [
    "def build_vocab_from_data(data, tokenizer, min_freq=2, special_tokens=None):\n",
    "    \"\"\"Build vocabulary from data\"\"\"\n",
    "    vocab = Vocabulary(special_tokens)\n",
    "    counter = {}\n",
    "    \n",
    "    # Count tokens\n",
    "    for text in data:\n",
    "        tokens = tokenizer(text)\n",
    "        for token in tokens:\n",
    "            counter[token] = counter.get(token, 0) + 1\n",
    "    \n",
    "    # Add tokens that meet the minimum frequency\n",
    "    for token, count in counter.items():\n",
    "        if count >= min_freq:\n",
    "            vocab.add_token(token)\n",
    "    \n",
    "    return vocab"
   ]
  },
  {
   "cell_type": "code",
   "execution_count": 7,
   "id": "d57ad013-85cd-49e7-96b4-8f28cf33fa5e",
   "metadata": {},
   "outputs": [],
   "source": [
    "def download_multi30k():\n",
    "    base_url = \"https://github.com/multi30k/dataset/raw/master/\"\n",
    "    \n",
    "    os.makedirs(\"data\", exist_ok=True)\n",
    "    \n",
    "    for lang in ['de', 'en']:\n",
    "        url = f\"{base_url}data/task1/raw/train.{lang}.gz\"\n",
    "        path = f\"data/train.{lang}\"\n",
    "        \n",
    "        if not os.path.exists(path):\n",
    "            print(f\"Downloading {url}...\")\n",
    "            import gzip\n",
    "            with urllib.request.urlopen(url) as response:\n",
    "                with gzip.GzipFile(fileobj=io.BytesIO(response.read())) as uncompressed:\n",
    "                    file_content = uncompressed.read()\n",
    "            \n",
    "            with open(path, 'wb') as f:\n",
    "                f.write(file_content)\n",
    "    \n",
    "    for lang in ['de', 'en']:\n",
    "        url = f\"{base_url}data/task1/raw/val.{lang}.gz\"\n",
    "        path = f\"data/val.{lang}\"\n",
    "        \n",
    "        if not os.path.exists(path):\n",
    "            print(f\"Downloading {url}...\")\n",
    "            import gzip\n",
    "            with urllib.request.urlopen(url) as response:\n",
    "                with gzip.GzipFile(fileobj=io.BytesIO(response.read())) as uncompressed:\n",
    "                    file_content = uncompressed.read()\n",
    "            \n",
    "            with open(path, 'wb') as f:\n",
    "                f.write(file_content)\n",
    "    \n",
    "    for lang in ['de', 'en']:\n",
    "        url = f\"{base_url}data/task1/raw/test_2016_flickr.{lang}.gz\"\n",
    "        path = f\"data/test.{lang}\"\n",
    "        \n",
    "        if not os.path.exists(path):\n",
    "            print(f\"Downloading {url}...\")\n",
    "            import gzip\n",
    "            with urllib.request.urlopen(url) as response:\n",
    "                with gzip.GzipFile(fileobj=io.BytesIO(response.read())) as uncompressed:\n",
    "                    file_content = uncompressed.read()\n",
    "            \n",
    "            with open(path, 'wb') as f:\n",
    "                f.write(file_content)\n",
    "    \n",
    "    print(\"Multi30k dataset downloaded successfully.\")"
   ]
  },
  {
   "cell_type": "code",
   "execution_count": 8,
   "id": "fec818b4-3dbb-444a-98e2-b8f677c52567",
   "metadata": {},
   "outputs": [],
   "source": [
    "def read_data(src_path, tgt_path):\n",
    "    with open(src_path, 'r', encoding='utf-8') as src_file, open(tgt_path, 'r', encoding='utf-8') as tgt_file:\n",
    "        src_lines = src_file.readlines()\n",
    "        tgt_lines = tgt_file.readlines()\n",
    "    \n",
    "    pairs = [(src.strip(), tgt.strip()) for src, tgt in zip(src_lines, tgt_lines)]\n",
    "    \n",
    "    return pairs"
   ]
  },
  {
   "cell_type": "code",
   "execution_count": 9,
   "id": "e34a2fef-e9e2-4295-aa73-f6950bc0c696",
   "metadata": {},
   "outputs": [],
   "source": [
    "def prepare_data():\n",
    "    download_multi30k()\n",
    "    \n",
    "    train_data = read_data(\"data/train.de\", \"data/train.en\")\n",
    "    val_data = read_data(\"data/val.de\", \"data/val.en\")\n",
    "    test_data = read_data(\"data/test.de\", \"data/test.en\")\n",
    "    \n",
    "    de_train_sentences = [pair[0] for pair in train_data]\n",
    "    en_train_sentences = [pair[1] for pair in train_data]\n",
    "    \n",
    "    de_vocab = build_vocab_from_data(de_train_sentences, tokenize_de, special_tokens=special_tokens)\n",
    "    en_vocab = build_vocab_from_data(en_train_sentences, tokenize_en, special_tokens=special_tokens)\n",
    "    \n",
    "    return train_data, val_data, test_data, de_vocab, en_vocab"
   ]
  },
  {
   "cell_type": "code",
   "execution_count": 10,
   "id": "008593bf-660e-40a5-9891-7137c286ec84",
   "metadata": {},
   "outputs": [],
   "source": [
    "class TranslationDataset(Dataset):\n",
    "    def __init__(self, data, src_vocab, tgt_vocab, src_tokenizer, tgt_tokenizer):\n",
    "        self.data = data\n",
    "        self.src_vocab = src_vocab\n",
    "        self.tgt_vocab = tgt_vocab\n",
    "        self.src_tokenizer = src_tokenizer\n",
    "        self.tgt_tokenizer = tgt_tokenizer\n",
    "        \n",
    "    def __len__(self):\n",
    "        return len(self.data)\n",
    "    \n",
    "    def __getitem__(self, idx):\n",
    "        src_text, tgt_text = self.data[idx]\n",
    "        \n",
    "        # Tokenize and convert to indices\n",
    "        src_tokens = self.src_tokenizer(src_text)\n",
    "        tgt_tokens = self.tgt_tokenizer(tgt_text)\n",
    "        \n",
    "        # Add BOS and EOS tokens to target\n",
    "        src_indices = [self.src_vocab[token] for token in src_tokens]\n",
    "        tgt_indices = [self.tgt_vocab[BOS_TOKEN]] + [self.tgt_vocab[token] for token in tgt_tokens] + [self.tgt_vocab[EOS_TOKEN]]\n",
    "        \n",
    "        return torch.tensor(src_indices), torch.tensor(tgt_indices)"
   ]
  },
  {
   "cell_type": "code",
   "execution_count": 11,
   "id": "b35f19b2-3e18-4d65-8164-871349c443ce",
   "metadata": {},
   "outputs": [],
   "source": [
    "def collate_fn(batch, pad_idx):\n",
    "    src_batch, tgt_batch = [], []\n",
    "    for src, tgt in batch:\n",
    "        src_batch.append(src)\n",
    "        tgt_batch.append(tgt)\n",
    "    \n",
    "    # Pad sequences\n",
    "    src_batch = pad_sequence(src_batch, padding_value=pad_idx, batch_first=True)\n",
    "    tgt_batch = pad_sequence(tgt_batch, padding_value=pad_idx, batch_first=True)\n",
    "    \n",
    "    return src_batch, tgt_batch"
   ]
  },
  {
   "cell_type": "code",
   "execution_count": 12,
   "id": "ede359ce-6c31-48e4-8785-a2bc5552a495",
   "metadata": {},
   "outputs": [],
   "source": [
    "def create_dataloaders(train_data, val_data, test_data, de_vocab, en_vocab, batch_size=128):\n",
    "    \"\"\"Create DataLoader objects for training, validation and testing\"\"\"\n",
    "    train_dataset = TranslationDataset(train_data, de_vocab, en_vocab, tokenize_de, tokenize_en)\n",
    "    val_dataset = TranslationDataset(val_data, de_vocab, en_vocab, tokenize_de, tokenize_en)\n",
    "    test_dataset = TranslationDataset(test_data, de_vocab, en_vocab, tokenize_de, tokenize_en)\n",
    "    \n",
    "    # Get pad index\n",
    "    pad_idx = de_vocab[PAD_TOKEN]\n",
    "    \n",
    "    train_dataloader = DataLoader(\n",
    "        train_dataset, \n",
    "        batch_size=batch_size, \n",
    "        shuffle=True, \n",
    "        collate_fn=lambda batch: collate_fn(batch, pad_idx),\n",
    "        pin_memory=True,\n",
    "        num_workers=12\n",
    "    )\n",
    "    \n",
    "    val_dataloader = DataLoader(\n",
    "        val_dataset, \n",
    "        batch_size=batch_size, \n",
    "        shuffle=False, \n",
    "        collate_fn=lambda batch: collate_fn(batch, pad_idx),\n",
    "        pin_memory=True,\n",
    "        num_workers=12\n",
    "    )\n",
    "    \n",
    "    test_dataloader = DataLoader(\n",
    "        test_dataset, \n",
    "        batch_size=batch_size, \n",
    "        shuffle=False, \n",
    "        collate_fn=lambda batch: collate_fn(batch, pad_idx),\n",
    "        pin_memory=True,\n",
    "        num_workers=12\n",
    "    )\n",
    "    \n",
    "    return train_dataloader, val_dataloader, test_dataloader, train_dataset, val_dataset, test_dataset"
   ]
  },
  {
   "cell_type": "code",
   "execution_count": 13,
   "id": "3788aee6-ee3f-4162-8c59-dca31020fbad",
   "metadata": {},
   "outputs": [],
   "source": [
    "def generate_square_subsequent_mask(sz):\n",
    "    \"\"\"Generate a mask for subsequent positions\"\"\"\n",
    "    mask = torch.triu(torch.ones(sz, sz), diagonal=1).bool()\n",
    "    return mask.to(device)\n",
    "\n",
    "def create_key_padding_mask(matrix, pad_idx):\n",
    "    \"\"\"Create mask where True means to mask (pad token)\"\"\"\n",
    "    return (matrix == pad_idx).to(device)  # Shape: [batch_size, seq_len]"
   ]
  },
  {
   "cell_type": "code",
   "execution_count": 14,
   "id": "391a23d5-8e76-4ae2-9e7e-1666245a9cc6",
   "metadata": {},
   "outputs": [],
   "source": [
    "class TransformerModel(nn.Module):\n",
    "    def __init__(self, src_vocab_size, tgt_vocab_size, d_model=256, nhead=8, \n",
    "                 num_encoder_layers=3, num_decoder_layers=3, dim_feedforward=1024, dropout=0.1):\n",
    "        super(TransformerModel, self).__init__()\n",
    "\n",
    "        self.d_model = d_model\n",
    "        self.nhead = nhead\n",
    "    \n",
    "        # Embeddings\n",
    "        self.src_embedding = nn.Embedding(src_vocab_size, d_model)\n",
    "        self.tgt_embedding = nn.Embedding(tgt_vocab_size, d_model)\n",
    "        self.positional_encoding = PositionalEncoding(d_model, dropout)\n",
    "        \n",
    "        # PyTorch's Transformer layers\n",
    "        encoder_layer = nn.TransformerEncoderLayer(\n",
    "            d_model=d_model,\n",
    "            nhead=nhead,\n",
    "            dim_feedforward=dim_feedforward,\n",
    "            dropout=dropout,\n",
    "            batch_first=True\n",
    "        )\n",
    "        self.transformer_encoder = nn.TransformerEncoder(\n",
    "            encoder_layer,\n",
    "            num_layers=num_encoder_layers,\n",
    "            norm=nn.LayerNorm(d_model)  # Explicitly add norm\n",
    "        )\n",
    "        \n",
    "        decoder_layer = nn.TransformerDecoderLayer(\n",
    "            d_model=d_model,\n",
    "            nhead=nhead,\n",
    "            dim_feedforward=dim_feedforward,\n",
    "            dropout=dropout,\n",
    "            batch_first=True\n",
    "        )\n",
    "        self.transformer_decoder = nn.TransformerDecoder(\n",
    "            decoder_layer,\n",
    "            num_layers=num_decoder_layers,\n",
    "            norm=nn.LayerNorm(d_model)  # Explicitly add norm\n",
    "        )\n",
    "        \n",
    "        # Output projection\n",
    "        self.output_layer = nn.Linear(d_model, tgt_vocab_size)\n",
    "        \n",
    "        # Initialize parameters\n",
    "        self._init_parameters()\n",
    "        \n",
    "        self.d_model = d_model\n",
    "        self.nhead = nhead\n",
    "        \n",
    "    def _init_parameters(self):\n",
    "        for p in self.parameters():\n",
    "            if p.dim() > 1:\n",
    "                # Use Kaiming initialization instead of Xavier\n",
    "                nn.init.kaiming_uniform_(p, a=math.sqrt(5))\n",
    "                \n",
    "        # Initialize embedding with normal distribution\n",
    "        nn.init.normal_(self.src_embedding.weight, mean=0, std=self.d_model ** -0.5)\n",
    "        nn.init.normal_(self.tgt_embedding.weight, mean=0, std=self.d_model ** -0.5)\n",
    "        \n",
    "        # Special initialization for output layer\n",
    "        nn.init.xavier_uniform_(self.output_layer.weight)\n",
    "        nn.init.constant_(self.output_layer.bias, 0.)\n",
    "    \n",
    "    def forward(self, src, tgt, src_key_padding_mask=None, tgt_key_padding_mask=None, memory_key_padding_mask=None, tgt_mask=None):\n",
    "        # Embed source tokens\n",
    "        src = self.src_embedding(src) * math.sqrt(self.d_model)\n",
    "        src = self.positional_encoding(src)\n",
    "        \n",
    "        # Embed target tokens\n",
    "        tgt = self.tgt_embedding(tgt) * math.sqrt(self.d_model)\n",
    "        tgt = self.positional_encoding(tgt)\n",
    "        \n",
    "        # Pass through transformer encoder - note the inversion of masks!\n",
    "        memory = self.transformer_encoder(src, src_key_padding_mask=src_key_padding_mask)\n",
    "        \n",
    "        # Pass through transformer decoder - note the inversion of masks!\n",
    "        output = self.transformer_decoder(\n",
    "            tgt, \n",
    "            memory, \n",
    "            tgt_mask=tgt_mask,\n",
    "            tgt_key_padding_mask=tgt_key_padding_mask,\n",
    "            memory_key_padding_mask=memory_key_padding_mask\n",
    "        )\n",
    "        \n",
    "        # Output projection\n",
    "        return self.output_layer(output)"
   ]
  },
  {
   "cell_type": "code",
   "execution_count": 15,
   "id": "b4498cd8-5177-4ffb-9121-97c549c059c7",
   "metadata": {},
   "outputs": [],
   "source": [
    "class PositionalEncoding(nn.Module):\n",
    "    def __init__(self, d_model, dropout=0.1, max_len=5000):\n",
    "        super(PositionalEncoding, self).__init__()\n",
    "        self.dropout = nn.Dropout(p=dropout)\n",
    "        \n",
    "        pe = torch.zeros(max_len, d_model)\n",
    "        position = torch.arange(0, max_len, dtype=torch.float).unsqueeze(1)\n",
    "        div_term = torch.exp(torch.arange(0, d_model, 2).float() * (-math.log(10000.0) / d_model))\n",
    "        pe[:, 0::2] = torch.sin(position * div_term)\n",
    "        pe[:, 1::2] = torch.cos(position * div_term)\n",
    "        pe = pe.unsqueeze(0)\n",
    "        self.register_buffer('pe', pe)\n",
    "        \n",
    "    def forward(self, x):\n",
    "        x = x + self.pe[:, :x.size(1)]\n",
    "        return self.dropout(x)"
   ]
  },
  {
   "cell_type": "code",
   "execution_count": 16,
   "id": "5a610877-2218-4a2d-a5a0-74837a1b854a",
   "metadata": {},
   "outputs": [],
   "source": [
    "def train_epoch(model, dataloader, optimizer, criterion, epoch, clip_grad=1.0):\n",
    "    model.train()\n",
    "    total_loss = 0\n",
    "    processed_batches = 0\n",
    "    \n",
    "    progress_bar = tqdm(dataloader, desc=f'Epoch {epoch+1}')\n",
    "    \n",
    "    for src, tgt in progress_bar:\n",
    "        src = src.to(device)\n",
    "        tgt = tgt.to(device)\n",
    "        \n",
    "        # Prepare masks\n",
    "        src_key_padding_mask = create_key_padding_mask(src, pad_idx)  # [batch_size, src_len]\n",
    "        tgt_input = tgt[:, :-1]  # Remove the last token (EOS)\n",
    "        tgt_output = tgt[:, 1:]  # Remove the first token (BOS)\n",
    "        tgt_key_padding_mask = create_key_padding_mask(tgt_input, pad_idx)  # [batch_size, tgt_len-1]\n",
    "        tgt_mask = generate_square_subsequent_mask(tgt_input.size(1))  # [tgt_len-1, tgt_len-1]\n",
    "        \n",
    "        # Forward pass\n",
    "        optimizer.zero_grad()\n",
    "        output = model(\n",
    "            src, \n",
    "            tgt_input, \n",
    "            src_key_padding_mask=src_key_padding_mask,\n",
    "            tgt_key_padding_mask=tgt_key_padding_mask,\n",
    "            memory_key_padding_mask=src_key_padding_mask,\n",
    "            tgt_mask=tgt_mask\n",
    "        )\n",
    "        \n",
    "        # Calculate loss\n",
    "        output = output.reshape(-1, output.shape[-1])\n",
    "        tgt_output = tgt_output.reshape(-1)\n",
    "        loss = criterion(output, tgt_output)\n",
    "        \n",
    "        # Backward pass\n",
    "        loss.backward()\n",
    "        \n",
    "        # Clip gradients\n",
    "        torch.nn.utils.clip_grad_norm_(model.parameters(), clip_grad)\n",
    "        \n",
    "        # Update parameters\n",
    "        optimizer.step()\n",
    "        \n",
    "        # Update statistics\n",
    "        total_loss += loss.item()\n",
    "        processed_batches += 1\n",
    "        progress_bar.set_postfix({'loss': total_loss / processed_batches})\n",
    "    \n",
    "    return total_loss / processed_batches"
   ]
  },
  {
   "cell_type": "code",
   "execution_count": 17,
   "id": "9856ff52-64b3-4e6d-92b7-5b9b698306dd",
   "metadata": {},
   "outputs": [],
   "source": [
    "def validate(model, dataloader, criterion):\n",
    "    model.eval()\n",
    "    total_loss = 0\n",
    "    processed_batches = 0\n",
    "    \n",
    "    with torch.no_grad():\n",
    "        for src, tgt in tqdm(dataloader, desc='Validating'):\n",
    "            src = src.to(device)\n",
    "            tgt = tgt.to(device)\n",
    "            \n",
    "            # Prepare masks\n",
    "            src_key_padding_mask = create_key_padding_mask(src, pad_idx)\n",
    "            tgt_input = tgt[:, :-1]\n",
    "            tgt_output = tgt[:, 1:]\n",
    "            tgt_key_padding_mask = create_key_padding_mask(tgt_input, pad_idx)\n",
    "            tgt_mask = generate_square_subsequent_mask(tgt_input.size(1))\n",
    "            \n",
    "            # Forward pass\n",
    "            output = model(\n",
    "                src, \n",
    "                tgt_input, \n",
    "                src_key_padding_mask=src_key_padding_mask,\n",
    "                tgt_key_padding_mask=tgt_key_padding_mask,\n",
    "                memory_key_padding_mask=src_key_padding_mask,\n",
    "                tgt_mask=tgt_mask\n",
    "            )\n",
    "            \n",
    "            # Calculate loss\n",
    "            output = output.reshape(-1, output.shape[-1])\n",
    "            tgt_output = tgt_output.reshape(-1)\n",
    "            loss = criterion(output, tgt_output)\n",
    "            \n",
    "            # Update statistics\n",
    "            total_loss += loss.item()\n",
    "            processed_batches += 1\n",
    "    \n",
    "    return total_loss / processed_batches"
   ]
  },
  {
   "cell_type": "code",
   "execution_count": 18,
   "id": "3ba7683c-3404-4338-abd3-bbb69133fbb1",
   "metadata": {},
   "outputs": [],
   "source": [
    "def greedy_decode(model, src, max_len, start_token, end_token, pad_token):\n",
    "    model.eval()\n",
    "    \n",
    "    src = src.to(device)\n",
    "    src_padding_mask = create_pad_mask(src, pad_token)\n",
    "    \n",
    "    # Initialize target sequence with start token\n",
    "    ys = torch.ones(1, 1).fill_(start_token).type_as(src).to(device)\n",
    "    \n",
    "    for i in range(max_len - 1):\n",
    "        # Generate mask for target sequence\n",
    "        tgt_mask = generate_square_subsequent_mask(ys.size(1)).to(device)\n",
    "        tgt_padding_mask = create_pad_mask(ys, pad_token)\n",
    "        \n",
    "        # Decode one step\n",
    "        with torch.no_grad():\n",
    "            out = model(src, ys, src_padding_mask, tgt_padding_mask, tgt_mask)\n",
    "            prob = F.softmax(out[:, -1], dim=-1)\n",
    "            _, next_word = torch.max(prob, dim=1)\n",
    "            \n",
    "        # Add predicted token to sequence\n",
    "        next_word = next_word.item()\n",
    "        ys = torch.cat([ys, torch.ones(1, 1).type_as(src).fill_(next_word).to(device)], dim=1)\n",
    "        \n",
    "        # Stop if end token is predicted\n",
    "        if next_word == end_token:\n",
    "            break\n",
    "    \n",
    "    return ys"
   ]
  },
  {
   "cell_type": "code",
   "execution_count": 19,
   "id": "655c7a70-5977-4ee6-9ab5-60bda2b517e1",
   "metadata": {},
   "outputs": [],
   "source": [
    "def beam_search_decode(model, src, max_len, start_token, end_token, pad_token, beam_size=5):\n",
    "    model.eval()\n",
    "    \n",
    "    src = src.to(device)\n",
    "    src_key_padding_mask = create_key_padding_mask(src, pad_token)\n",
    "    \n",
    "    # Initialize with start token\n",
    "    ys = torch.ones(1, 1).fill_(start_token).type_as(src).to(device)\n",
    "    \n",
    "    # Initial beam\n",
    "    beams = [(ys, 0.0)]  # (sequence, score)\n",
    "    completed_beams = []\n",
    "    \n",
    "    for _ in range(max_len - 1):\n",
    "        candidates = []\n",
    "        \n",
    "        for seq, score in beams:\n",
    "            if seq[0, -1].item() == end_token:\n",
    "                completed_beams.append((seq, score))\n",
    "                continue\n",
    "                \n",
    "            # Prepare masks\n",
    "            tgt_mask = generate_square_subsequent_mask(seq.size(1))\n",
    "            tgt_key_padding_mask = create_key_padding_mask(seq, pad_token)\n",
    "            \n",
    "            # Decode one step\n",
    "            with torch.no_grad():\n",
    "                out = model(\n",
    "                    src, \n",
    "                    seq, \n",
    "                    src_key_padding_mask=src_key_padding_mask,\n",
    "                    tgt_key_padding_mask=tgt_key_padding_mask,\n",
    "                    memory_key_padding_mask=src_key_padding_mask,\n",
    "                    tgt_mask=tgt_mask\n",
    "                )\n",
    "                prob = F.log_softmax(out[:, -1], dim=-1)\n",
    "                \n",
    "            # Get top k\n",
    "            topk_prob, topk_idx = prob.topk(beam_size)\n",
    "            \n",
    "            for i in range(beam_size):\n",
    "                next_token = topk_idx[0, i].item()\n",
    "                next_score = score + topk_prob[0, i].item()\n",
    "                next_seq = torch.cat([seq, torch.ones(1, 1).type_as(src).fill_(next_token).to(device)], dim=1)\n",
    "                candidates.append((next_seq, next_score))\n",
    "        \n",
    "        # Keep only top beams\n",
    "        beams = sorted(candidates, key=lambda x: x[1], reverse=True)[:beam_size]\n",
    "        \n",
    "        # Stop if all beams end with end token\n",
    "        if all(beam[0][0, -1].item() == end_token for beam in beams):\n",
    "            break\n",
    "    \n",
    "    # Add any remaining beams to completed\n",
    "    for seq, score in beams:\n",
    "        if seq[0, -1].item() != end_token:\n",
    "            seq = torch.cat([seq, torch.ones(1, 1).type_as(src).fill_(end_token).to(device)], dim=1)\n",
    "        completed_beams.append((seq, score))\n",
    "    \n",
    "    # Return the highest scoring beam\n",
    "    if completed_beams:\n",
    "        return max(completed_beams, key=lambda x: x[1])[0]\n",
    "    else:\n",
    "        # If no completed beams, return the best ongoing beam\n",
    "        return beams[0][0]"
   ]
  },
  {
   "cell_type": "code",
   "execution_count": 20,
   "id": "6a32e093-6a26-4216-8d67-c34c8f542b16",
   "metadata": {},
   "outputs": [],
   "source": [
    "def translate(model, sentence, src_tokenizer, tgt_vocab, src_vocab, max_len=50, beam_size=5):\n",
    "    model.eval()\n",
    "    \n",
    "    # Tokenize input sentence\n",
    "    tokens = src_tokenizer(sentence)\n",
    "    \n",
    "    # Convert tokens to indices\n",
    "    token_ids = [src_vocab[token] for token in tokens]\n",
    "    \n",
    "    # Create tensor\n",
    "    src = torch.tensor([token_ids]).to(device)\n",
    "    \n",
    "    # Decode using beam search\n",
    "    output = beam_search_decode(\n",
    "        model, \n",
    "        src, \n",
    "        max_len, \n",
    "        tgt_vocab[BOS_TOKEN], \n",
    "        tgt_vocab[EOS_TOKEN], \n",
    "        src_vocab[PAD_TOKEN],\n",
    "        beam_size\n",
    "    )\n",
    "    \n",
    "    # Convert output indices to tokens\n",
    "    output_tokens = [tgt_vocab.lookup_token(i) for i in output[0, 1:].tolist()]\n",
    "    \n",
    "    # Stop at EOS token\n",
    "    if tgt_vocab[EOS_TOKEN] in output_tokens:\n",
    "        output_tokens = output_tokens[:output_tokens.index(tgt_vocab[EOS_TOKEN])]\n",
    "    \n",
    "    return ' '.join(output_tokens)"
   ]
  },
  {
   "cell_type": "code",
   "execution_count": 21,
   "id": "a568ef07-ad21-45f3-b306-07d02aa44788",
   "metadata": {},
   "outputs": [],
   "source": [
    "def calculate_bleu(references, hypotheses):\n",
    "    \"\"\"Calculate BLEU score\"\"\"\n",
    "    # Function to compute n-gram precision\n",
    "    def ngram_precision(hypothesis, reference, n):\n",
    "        hyp_ngrams = [tuple(hypothesis[i:i+n]) for i in range(len(hypothesis) - n + 1)]\n",
    "        ref_ngrams = [tuple(reference[i:i+n]) for i in range(len(reference) - n + 1)]\n",
    "        \n",
    "        if not hyp_ngrams:\n",
    "            return 0\n",
    "        \n",
    "        matches = sum(1 for ngram in hyp_ngrams if ngram in ref_ngrams)\n",
    "        return matches / len(hyp_ngrams) if hyp_ngrams else 0\n",
    "    \n",
    "    # Calculate individual n-gram precisions\n",
    "    precisions = []\n",
    "    for n in range(1, 5):  # 1-gram to 4-gram\n",
    "        precision_sum = 0\n",
    "        for hyp, refs in zip(hypotheses, references):\n",
    "            # Use the maximum precision among all references\n",
    "            precision_sum += max(ngram_precision(hyp, ref, n) for ref in refs)\n",
    "        precisions.append(precision_sum / len(hypotheses) if hypotheses else 0)\n",
    "    \n",
    "    # Brevity penalty\n",
    "    hyp_lengths = [len(hyp) for hyp in hypotheses]\n",
    "    closest_ref_lengths = []\n",
    "    for hyp, refs in zip(hypotheses, references):\n",
    "        hyp_len = len(hyp)\n",
    "        closest_ref_len = min(refs, key=lambda ref: abs(len(ref) - hyp_len))\n",
    "        closest_ref_lengths.append(len(closest_ref_len))\n",
    "    \n",
    "    bp = 1.0\n",
    "    if sum(hyp_lengths) < sum(closest_ref_lengths):\n",
    "        bp = math.exp(1 - sum(closest_ref_lengths) / sum(hyp_lengths))\n",
    "    \n",
    "    # Geometric mean of precisions\n",
    "    if 0 in precisions:\n",
    "        return 0\n",
    "    \n",
    "    geo_mean = math.exp(sum(math.log(p) for p in precisions) / len(precisions))\n",
    "    \n",
    "    return bp * geo_mean"
   ]
  },
  {
   "cell_type": "code",
   "execution_count": 22,
   "id": "b5826c73-d643-4462-a2b0-4e254ccbd517",
   "metadata": {},
   "outputs": [],
   "source": [
    "def evaluate_model(model, test_dataloader, src_vocab, tgt_vocab, num_examples=100):\n",
    "    model.eval()\n",
    "    references = []\n",
    "    hypotheses = []\n",
    "    \n",
    "    with torch.no_grad():\n",
    "        for src, tgt in tqdm(test_dataloader, desc=\"Evaluating\"):\n",
    "            src = src.to(device)\n",
    "            \n",
    "            # For each sentence in the batch\n",
    "            for i in range(src.size(0)):\n",
    "                # Get source sentence\n",
    "                src_sentence = src[i].unsqueeze(0)\n",
    "                \n",
    "                # Translate using beam search\n",
    "                output = beam_search_decode(\n",
    "                    model, \n",
    "                    src_sentence, \n",
    "                    max_len=50, \n",
    "                    start_token=tgt_vocab[BOS_TOKEN], \n",
    "                    end_token=tgt_vocab[EOS_TOKEN], \n",
    "                    pad_token=src_vocab[PAD_TOKEN],\n",
    "                    beam_size=3\n",
    "                )\n",
    "                \n",
    "                # Convert output indices to tokens\n",
    "                pred_tokens = [tgt_vocab.lookup_token(idx) for idx in output[0, 1:].tolist()]\n",
    "                \n",
    "                # Stop at EOS token\n",
    "                if tgt_vocab.lookup_token(tgt_vocab[EOS_TOKEN]) in pred_tokens:\n",
    "                    pred_tokens = pred_tokens[:pred_tokens.index(tgt_vocab.lookup_token(tgt_vocab[EOS_TOKEN]))]\n",
    "                \n",
    "                # Convert reference indices to tokens\n",
    "                ref_tokens = [tgt_vocab.lookup_token(idx) for idx in tgt[i, 1:].tolist()]\n",
    "                \n",
    "                # Stop at EOS token or PAD token\n",
    "                if tgt_vocab.lookup_token(tgt_vocab[EOS_TOKEN]) in ref_tokens:\n",
    "                    ref_tokens = ref_tokens[:ref_tokens.index(tgt_vocab.lookup_token(tgt_vocab[EOS_TOKEN]))]\n",
    "                elif tgt_vocab.lookup_token(tgt_vocab[PAD_TOKEN]) in ref_tokens:\n",
    "                    ref_tokens = ref_tokens[:ref_tokens.index(tgt_vocab.lookup_token(tgt_vocab[PAD_TOKEN]))]\n",
    "                \n",
    "                hypotheses.append(pred_tokens)\n",
    "                references.append([ref_tokens])  # BLEU expects a list of references\n",
    "            \n",
    "            # To save time, only use a subset of the test set\n",
    "            if len(hypotheses) >= num_examples:\n",
    "                break\n",
    "    \n",
    "    # Calculate BLEU score\n",
    "    bleu = calculate_bleu(references, hypotheses)\n",
    "    \n",
    "    return bleu, references, hypotheses"
   ]
  },
  {
   "cell_type": "code",
   "execution_count": 23,
   "id": "1b16e13f-dfd2-4d87-8be5-bfe30f847ff8",
   "metadata": {},
   "outputs": [],
   "source": [
    "def load_model(model_path, de_vocab, en_vocab):\n",
    "    \"\"\"Load model and vocabularies from saved file\"\"\"\n",
    "    checkpoint = torch.load(model_path)\n",
    "    \n",
    "    # Get hyperparameters\n",
    "    params = checkpoint['model_hyperparams']\n",
    "    \n",
    "    # Initialize model\n",
    "    model = TransformerModel(\n",
    "        len(de_vocab),\n",
    "        len(en_vocab),\n",
    "        d_model=params['d_model'],\n",
    "        nhead=params['nhead'],\n",
    "        num_encoder_layers=params['num_encoder_layers'],\n",
    "        num_decoder_layers=params['num_decoder_layers'],\n",
    "        dim_feedforward=params['dim_feedforward'],\n",
    "        dropout=params['dropout']\n",
    "    ).to(device)\n",
    "    \n",
    "    # Load state dict\n",
    "    model.load_state_dict(checkpoint['model_state_dict'])\n",
    "    \n",
    "    return model"
   ]
  },
  {
   "cell_type": "code",
   "execution_count": 24,
   "id": "61c70011-f619-423a-a5b3-bb7d7e1bc48c",
   "metadata": {},
   "outputs": [
    {
     "name": "stdout",
     "output_type": "stream",
     "text": [
      "Preparing Multi30k dataset...\n",
      "Multi30k dataset downloaded successfully.\n"
     ]
    }
   ],
   "source": [
    "print(\"Preparing Multi30k dataset...\")\n",
    "train_data, val_data, test_data, de_vocab, en_vocab = prepare_data()"
   ]
  },
  {
   "cell_type": "code",
   "execution_count": 25,
   "id": "e4ca449b-f299-4691-8da2-ea20335b3f67",
   "metadata": {},
   "outputs": [
    {
     "name": "stdout",
     "output_type": "stream",
     "text": [
      "German vocabulary size: 7853\n",
      "English vocabulary size: 5893\n"
     ]
    }
   ],
   "source": [
    "print(f\"German vocabulary size: {len(de_vocab)}\")\n",
    "print(f\"English vocabulary size: {len(en_vocab)}\")"
   ]
  },
  {
   "cell_type": "code",
   "execution_count": 32,
   "id": "408af915-cf9d-49af-9502-31864e216e5a",
   "metadata": {},
   "outputs": [],
   "source": [
    "D_MODEL = 512\n",
    "NHEAD = 8\n",
    "NUM_ENCODER_LAYERS = 6\n",
    "NUM_DECODER_LAYERS = 6\n",
    "DIM_FEEDFORWARD = 2048\n",
    "DROPOUT = 0.1\n",
    "BATCH_SIZE = 128  # Increased for better GPU utilization\n",
    "LR = 0.0005\n",
    "BETAS = (0.9, 0.98)\n",
    "EPS = 1e-9\n",
    "WARMUP_STEPS = 4000\n",
    "NUM_EPOCHS = 100\n",
    "pad_idx = de_vocab[PAD_TOKEN]"
   ]
  },
  {
   "cell_type": "code",
   "execution_count": 33,
   "id": "e54c5b03-f138-4f12-9bb8-8907fe1d0004",
   "metadata": {},
   "outputs": [],
   "source": [
    "train_dataloader, val_dataloader, test_dataloader, train_dataset, val_dataset, test_dataset = create_dataloaders(\n",
    "    train_data, val_data, test_data, de_vocab, en_vocab, batch_size=BATCH_SIZE\n",
    ")"
   ]
  },
  {
   "cell_type": "code",
   "execution_count": 34,
   "id": "33738d4b-e0dc-4f20-a305-4496cbf04cfb",
   "metadata": {},
   "outputs": [
    {
     "name": "stdout",
     "output_type": "stream",
     "text": [
      "Number of training examples: 29000\n",
      "Number of validation examples: 1014\n",
      "Number of test examples: 1000\n",
      "Number of training batches: 227\n",
      "Number of validation batches: 8\n",
      "Number of test batches: 8\n"
     ]
    }
   ],
   "source": [
    "print(f\"Number of training examples: {len(train_data)}\")\n",
    "print(f\"Number of validation examples: {len(val_data)}\")\n",
    "print(f\"Number of test examples: {len(test_data)}\")\n",
    "print(f\"Number of training batches: {len(train_dataloader)}\")\n",
    "print(f\"Number of validation batches: {len(val_dataloader)}\")\n",
    "print(f\"Number of test batches: {len(test_dataloader)}\")"
   ]
  },
  {
   "cell_type": "code",
   "execution_count": 35,
   "id": "079db2c3-e5f6-4227-b337-d640db272a0a",
   "metadata": {},
   "outputs": [
    {
     "name": "stdout",
     "output_type": "stream",
     "text": [
      "Model has 54201605 parameters\n"
     ]
    }
   ],
   "source": [
    "model = TransformerModel(\n",
    "    len(de_vocab), \n",
    "    len(en_vocab), \n",
    "    d_model=D_MODEL, \n",
    "    nhead=NHEAD,\n",
    "    num_encoder_layers=NUM_ENCODER_LAYERS, \n",
    "    num_decoder_layers=NUM_DECODER_LAYERS,\n",
    "    dim_feedforward=DIM_FEEDFORWARD, \n",
    "    dropout=DROPOUT\n",
    ").to(device)\n",
    "\n",
    "print(f\"Model has {sum(p.numel() for p in model.parameters())} parameters\")"
   ]
  },
  {
   "cell_type": "code",
   "execution_count": 36,
   "id": "53f02d60-ced7-4ac3-ad32-0c8d5ab2e20b",
   "metadata": {},
   "outputs": [],
   "source": [
    "def lr_schedule(step, d_model, warmup_steps):\n",
    "    arg1 = step ** -0.5\n",
    "    arg2 = step * (warmup_steps ** -1.5)\n",
    "    return (d_model ** -0.5) * min(arg1, arg2)"
   ]
  },
  {
   "cell_type": "code",
   "execution_count": 37,
   "id": "76315a74-3080-42af-97d8-1758436d0c3f",
   "metadata": {},
   "outputs": [],
   "source": [
    "optimizer = torch.optim.Adam(model.parameters(), lr=LR, betas=(0.9, 0.98), eps=1e-9)\n",
    "scheduler = ReduceLROnPlateau(optimizer, mode='min', factor=0.5, patience=50, verbose=True)\n",
    "criterion = nn.CrossEntropyLoss(ignore_index=pad_idx, label_smoothing=0.1)  # Add label smoothing\n",
    "scaler = GradScaler()"
   ]
  },
  {
   "cell_type": "code",
   "execution_count": 38,
   "id": "f660571c-41e9-4512-b208-05201e1c0d8f",
   "metadata": {},
   "outputs": [
    {
     "name": "stdout",
     "output_type": "stream",
     "text": [
      "Starting training...\n"
     ]
    },
    {
     "data": {
      "application/vnd.jupyter.widget-view+json": {
       "model_id": "8a98af8f74554f54a6651b368b420e21",
       "version_major": 2,
       "version_minor": 0
      },
      "text/plain": [
       "Epoch 1:   0%|          | 0/227 [00:00<?, ?it/s]"
      ]
     },
     "metadata": {},
     "output_type": "display_data"
    },
    {
     "data": {
      "application/vnd.jupyter.widget-view+json": {
       "model_id": "f2c4d79807174cdda184ac642ac2e821",
       "version_major": 2,
       "version_minor": 0
      },
      "text/plain": [
       "Validating:   0%|          | 0/8 [00:00<?, ?it/s]"
      ]
     },
     "metadata": {},
     "output_type": "display_data"
    },
    {
     "name": "stdout",
     "output_type": "stream",
     "text": [
      "Epoch 1/100, Train Loss: 4.7263, Val Loss: 4.1702, LR: 0.000500\n",
      "Saved best model with validation loss: 4.1702\n"
     ]
    },
    {
     "data": {
      "application/vnd.jupyter.widget-view+json": {
       "model_id": "a10a116d40ee40459ce7330681d7b77a",
       "version_major": 2,
       "version_minor": 0
      },
      "text/plain": [
       "Epoch 2:   0%|          | 0/227 [00:00<?, ?it/s]"
      ]
     },
     "metadata": {},
     "output_type": "display_data"
    },
    {
     "data": {
      "application/vnd.jupyter.widget-view+json": {
       "model_id": "7fc39899268346d0b4bcb811e4814a46",
       "version_major": 2,
       "version_minor": 0
      },
      "text/plain": [
       "Validating:   0%|          | 0/8 [00:00<?, ?it/s]"
      ]
     },
     "metadata": {},
     "output_type": "display_data"
    },
    {
     "name": "stdout",
     "output_type": "stream",
     "text": [
      "Epoch 2/100, Train Loss: 4.0948, Val Loss: 3.9925, LR: 0.000500\n",
      "Saved best model with validation loss: 3.9925\n"
     ]
    },
    {
     "data": {
      "application/vnd.jupyter.widget-view+json": {
       "model_id": "03140a1ad06444d0b710c07584620a2f",
       "version_major": 2,
       "version_minor": 0
      },
      "text/plain": [
       "Epoch 3:   0%|          | 0/227 [00:00<?, ?it/s]"
      ]
     },
     "metadata": {},
     "output_type": "display_data"
    },
    {
     "data": {
      "application/vnd.jupyter.widget-view+json": {
       "model_id": "ae659ed95eae43b2a8a9f6cce94fbf32",
       "version_major": 2,
       "version_minor": 0
      },
      "text/plain": [
       "Validating:   0%|          | 0/8 [00:00<?, ?it/s]"
      ]
     },
     "metadata": {},
     "output_type": "display_data"
    },
    {
     "name": "stdout",
     "output_type": "stream",
     "text": [
      "Epoch 3/100, Train Loss: 3.8946, Val Loss: 3.9756, LR: 0.000500\n",
      "Saved best model with validation loss: 3.9756\n"
     ]
    },
    {
     "data": {
      "application/vnd.jupyter.widget-view+json": {
       "model_id": "e93590a5ae9745738044cfbfa8ed3761",
       "version_major": 2,
       "version_minor": 0
      },
      "text/plain": [
       "Epoch 4:   0%|          | 0/227 [00:00<?, ?it/s]"
      ]
     },
     "metadata": {},
     "output_type": "display_data"
    },
    {
     "data": {
      "application/vnd.jupyter.widget-view+json": {
       "model_id": "9b9bd59264b248feac0c3557c89f7ab6",
       "version_major": 2,
       "version_minor": 0
      },
      "text/plain": [
       "Validating:   0%|          | 0/8 [00:00<?, ?it/s]"
      ]
     },
     "metadata": {},
     "output_type": "display_data"
    },
    {
     "name": "stdout",
     "output_type": "stream",
     "text": [
      "Epoch 4/100, Train Loss: 3.7454, Val Loss: 3.9827, LR: 0.000500\n"
     ]
    },
    {
     "data": {
      "application/vnd.jupyter.widget-view+json": {
       "model_id": "d866280fd7454752970dfee79a9f5c25",
       "version_major": 2,
       "version_minor": 0
      },
      "text/plain": [
       "Epoch 5:   0%|          | 0/227 [00:00<?, ?it/s]"
      ]
     },
     "metadata": {},
     "output_type": "display_data"
    },
    {
     "data": {
      "application/vnd.jupyter.widget-view+json": {
       "model_id": "2aaebb8a5d474517bef2439e5583a789",
       "version_major": 2,
       "version_minor": 0
      },
      "text/plain": [
       "Validating:   0%|          | 0/8 [00:00<?, ?it/s]"
      ]
     },
     "metadata": {},
     "output_type": "display_data"
    },
    {
     "name": "stdout",
     "output_type": "stream",
     "text": [
      "Epoch 5/100, Train Loss: 3.6112, Val Loss: 4.0497, LR: 0.000500\n"
     ]
    },
    {
     "data": {
      "application/vnd.jupyter.widget-view+json": {
       "model_id": "17fd165b4d9f4c44b22691ac4c89faca",
       "version_major": 2,
       "version_minor": 0
      },
      "text/plain": [
       "Epoch 6:   0%|          | 0/227 [00:00<?, ?it/s]"
      ]
     },
     "metadata": {},
     "output_type": "display_data"
    },
    {
     "data": {
      "application/vnd.jupyter.widget-view+json": {
       "model_id": "fe00b75de8e14e4095a7cd9acbb2d1f7",
       "version_major": 2,
       "version_minor": 0
      },
      "text/plain": [
       "Validating:   0%|          | 0/8 [00:00<?, ?it/s]"
      ]
     },
     "metadata": {},
     "output_type": "display_data"
    },
    {
     "name": "stdout",
     "output_type": "stream",
     "text": [
      "Epoch 6/100, Train Loss: 3.4858, Val Loss: 4.1331, LR: 0.000500\n"
     ]
    },
    {
     "data": {
      "application/vnd.jupyter.widget-view+json": {
       "model_id": "670f8f235adf4be6bf911b15f3712507",
       "version_major": 2,
       "version_minor": 0
      },
      "text/plain": [
       "Epoch 7:   0%|          | 0/227 [00:00<?, ?it/s]"
      ]
     },
     "metadata": {},
     "output_type": "display_data"
    },
    {
     "data": {
      "application/vnd.jupyter.widget-view+json": {
       "model_id": "ee7e428d401f4064ae091c7c2491cad5",
       "version_major": 2,
       "version_minor": 0
      },
      "text/plain": [
       "Validating:   0%|          | 0/8 [00:00<?, ?it/s]"
      ]
     },
     "metadata": {},
     "output_type": "display_data"
    },
    {
     "name": "stdout",
     "output_type": "stream",
     "text": [
      "Epoch 7/100, Train Loss: 3.3623, Val Loss: 4.1523, LR: 0.000500\n"
     ]
    },
    {
     "data": {
      "application/vnd.jupyter.widget-view+json": {
       "model_id": "354034319d024d88ab74253a2a7b6b32",
       "version_major": 2,
       "version_minor": 0
      },
      "text/plain": [
       "Epoch 8:   0%|          | 0/227 [00:00<?, ?it/s]"
      ]
     },
     "metadata": {},
     "output_type": "display_data"
    },
    {
     "data": {
      "application/vnd.jupyter.widget-view+json": {
       "model_id": "2c5f14aae60c4411b693fadd0aa57919",
       "version_major": 2,
       "version_minor": 0
      },
      "text/plain": [
       "Validating:   0%|          | 0/8 [00:00<?, ?it/s]"
      ]
     },
     "metadata": {},
     "output_type": "display_data"
    },
    {
     "name": "stdout",
     "output_type": "stream",
     "text": [
      "Epoch 8/100, Train Loss: 3.2420, Val Loss: 4.2104, LR: 0.000500\n"
     ]
    },
    {
     "data": {
      "application/vnd.jupyter.widget-view+json": {
       "model_id": "6dd87439153843c799a61dced2e5ba4d",
       "version_major": 2,
       "version_minor": 0
      },
      "text/plain": [
       "Epoch 9:   0%|          | 0/227 [00:00<?, ?it/s]"
      ]
     },
     "metadata": {},
     "output_type": "display_data"
    },
    {
     "data": {
      "application/vnd.jupyter.widget-view+json": {
       "model_id": "82f3d98f0ba4415c811c348a0eb3e761",
       "version_major": 2,
       "version_minor": 0
      },
      "text/plain": [
       "Validating:   0%|          | 0/8 [00:00<?, ?it/s]"
      ]
     },
     "metadata": {},
     "output_type": "display_data"
    },
    {
     "name": "stdout",
     "output_type": "stream",
     "text": [
      "Epoch 9/100, Train Loss: 3.1291, Val Loss: 4.3538, LR: 0.000500\n"
     ]
    },
    {
     "data": {
      "application/vnd.jupyter.widget-view+json": {
       "model_id": "2f085242f58345c38967ab855795afd4",
       "version_major": 2,
       "version_minor": 0
      },
      "text/plain": [
       "Epoch 10:   0%|          | 0/227 [00:00<?, ?it/s]"
      ]
     },
     "metadata": {},
     "output_type": "display_data"
    },
    {
     "data": {
      "application/vnd.jupyter.widget-view+json": {
       "model_id": "b5578a7e172f4cd28e07de6be61fd986",
       "version_major": 2,
       "version_minor": 0
      },
      "text/plain": [
       "Validating:   0%|          | 0/8 [00:00<?, ?it/s]"
      ]
     },
     "metadata": {},
     "output_type": "display_data"
    },
    {
     "name": "stdout",
     "output_type": "stream",
     "text": [
      "Epoch 10/100, Train Loss: 3.0201, Val Loss: 4.3620, LR: 0.000500\n"
     ]
    },
    {
     "data": {
      "application/vnd.jupyter.widget-view+json": {
       "model_id": "bbcd95915a3d4096b7e3b7810dc94222",
       "version_major": 2,
       "version_minor": 0
      },
      "text/plain": [
       "Epoch 11:   0%|          | 0/227 [00:00<?, ?it/s]"
      ]
     },
     "metadata": {},
     "output_type": "display_data"
    },
    {
     "data": {
      "application/vnd.jupyter.widget-view+json": {
       "model_id": "c03c00807944487ba19861de5f27edf5",
       "version_major": 2,
       "version_minor": 0
      },
      "text/plain": [
       "Validating:   0%|          | 0/8 [00:00<?, ?it/s]"
      ]
     },
     "metadata": {},
     "output_type": "display_data"
    },
    {
     "name": "stdout",
     "output_type": "stream",
     "text": [
      "Epoch 11/100, Train Loss: 2.9224, Val Loss: 4.3204, LR: 0.000500\n"
     ]
    },
    {
     "data": {
      "application/vnd.jupyter.widget-view+json": {
       "model_id": "e0422e4fe6164aad8b3d213ab37d98da",
       "version_major": 2,
       "version_minor": 0
      },
      "text/plain": [
       "Epoch 12:   0%|          | 0/227 [00:00<?, ?it/s]"
      ]
     },
     "metadata": {},
     "output_type": "display_data"
    },
    {
     "data": {
      "application/vnd.jupyter.widget-view+json": {
       "model_id": "fd3d7ac19d29432e8067b971ec2c8a57",
       "version_major": 2,
       "version_minor": 0
      },
      "text/plain": [
       "Validating:   0%|          | 0/8 [00:00<?, ?it/s]"
      ]
     },
     "metadata": {},
     "output_type": "display_data"
    },
    {
     "name": "stdout",
     "output_type": "stream",
     "text": [
      "Epoch 12/100, Train Loss: 2.8294, Val Loss: 4.5254, LR: 0.000500\n"
     ]
    },
    {
     "data": {
      "application/vnd.jupyter.widget-view+json": {
       "model_id": "6d51393cf97347f5b5394cc36ebd1e6b",
       "version_major": 2,
       "version_minor": 0
      },
      "text/plain": [
       "Epoch 13:   0%|          | 0/227 [00:00<?, ?it/s]"
      ]
     },
     "metadata": {},
     "output_type": "display_data"
    },
    {
     "data": {
      "application/vnd.jupyter.widget-view+json": {
       "model_id": "eef1196f69ab42199ec148d6720f1a32",
       "version_major": 2,
       "version_minor": 0
      },
      "text/plain": [
       "Validating:   0%|          | 0/8 [00:00<?, ?it/s]"
      ]
     },
     "metadata": {},
     "output_type": "display_data"
    },
    {
     "name": "stdout",
     "output_type": "stream",
     "text": [
      "Epoch 13/100, Train Loss: 2.7518, Val Loss: 4.5604, LR: 0.000500\n"
     ]
    },
    {
     "data": {
      "application/vnd.jupyter.widget-view+json": {
       "model_id": "9fff801f394d45059b689f51bdaaade2",
       "version_major": 2,
       "version_minor": 0
      },
      "text/plain": [
       "Epoch 14:   0%|          | 0/227 [00:00<?, ?it/s]"
      ]
     },
     "metadata": {},
     "output_type": "display_data"
    },
    {
     "data": {
      "application/vnd.jupyter.widget-view+json": {
       "model_id": "5b870b03089f43abb1f42441c1df685a",
       "version_major": 2,
       "version_minor": 0
      },
      "text/plain": [
       "Validating:   0%|          | 0/8 [00:00<?, ?it/s]"
      ]
     },
     "metadata": {},
     "output_type": "display_data"
    },
    {
     "name": "stdout",
     "output_type": "stream",
     "text": [
      "Epoch 14/100, Train Loss: 2.6796, Val Loss: 4.6168, LR: 0.000500\n"
     ]
    },
    {
     "data": {
      "application/vnd.jupyter.widget-view+json": {
       "model_id": "18ab2a1fc6bd4d6bb51e6d5b4ff2a671",
       "version_major": 2,
       "version_minor": 0
      },
      "text/plain": [
       "Epoch 15:   0%|          | 0/227 [00:00<?, ?it/s]"
      ]
     },
     "metadata": {},
     "output_type": "display_data"
    },
    {
     "data": {
      "application/vnd.jupyter.widget-view+json": {
       "model_id": "9f82155e09094ccf851f51549202f253",
       "version_major": 2,
       "version_minor": 0
      },
      "text/plain": [
       "Validating:   0%|          | 0/8 [00:00<?, ?it/s]"
      ]
     },
     "metadata": {},
     "output_type": "display_data"
    },
    {
     "name": "stdout",
     "output_type": "stream",
     "text": [
      "Epoch 15/100, Train Loss: 2.6225, Val Loss: 4.6828, LR: 0.000500\n"
     ]
    },
    {
     "data": {
      "application/vnd.jupyter.widget-view+json": {
       "model_id": "4fd88722a0a94b759280563067a6edb0",
       "version_major": 2,
       "version_minor": 0
      },
      "text/plain": [
       "Epoch 16:   0%|          | 0/227 [00:00<?, ?it/s]"
      ]
     },
     "metadata": {},
     "output_type": "display_data"
    },
    {
     "data": {
      "application/vnd.jupyter.widget-view+json": {
       "model_id": "93977416f01d4552bd3885d99501361b",
       "version_major": 2,
       "version_minor": 0
      },
      "text/plain": [
       "Validating:   0%|          | 0/8 [00:00<?, ?it/s]"
      ]
     },
     "metadata": {},
     "output_type": "display_data"
    },
    {
     "name": "stdout",
     "output_type": "stream",
     "text": [
      "Epoch 16/100, Train Loss: 2.5690, Val Loss: 4.8095, LR: 0.000500\n"
     ]
    },
    {
     "data": {
      "application/vnd.jupyter.widget-view+json": {
       "model_id": "c0b0e6d0d80e42028a11adcb60f2e7c4",
       "version_major": 2,
       "version_minor": 0
      },
      "text/plain": [
       "Epoch 17:   0%|          | 0/227 [00:00<?, ?it/s]"
      ]
     },
     "metadata": {},
     "output_type": "display_data"
    },
    {
     "data": {
      "application/vnd.jupyter.widget-view+json": {
       "model_id": "a2bddafcbeef46198033e2aa60b48d63",
       "version_major": 2,
       "version_minor": 0
      },
      "text/plain": [
       "Validating:   0%|          | 0/8 [00:00<?, ?it/s]"
      ]
     },
     "metadata": {},
     "output_type": "display_data"
    },
    {
     "name": "stdout",
     "output_type": "stream",
     "text": [
      "Epoch 17/100, Train Loss: 2.5269, Val Loss: 4.7534, LR: 0.000500\n"
     ]
    },
    {
     "data": {
      "application/vnd.jupyter.widget-view+json": {
       "model_id": "7d076d29f6be4db19193d6c001fb5090",
       "version_major": 2,
       "version_minor": 0
      },
      "text/plain": [
       "Epoch 18:   0%|          | 0/227 [00:00<?, ?it/s]"
      ]
     },
     "metadata": {},
     "output_type": "display_data"
    },
    {
     "data": {
      "application/vnd.jupyter.widget-view+json": {
       "model_id": "7973ddd118f34c1fa742e78665b77704",
       "version_major": 2,
       "version_minor": 0
      },
      "text/plain": [
       "Validating:   0%|          | 0/8 [00:00<?, ?it/s]"
      ]
     },
     "metadata": {},
     "output_type": "display_data"
    },
    {
     "name": "stdout",
     "output_type": "stream",
     "text": [
      "Epoch 18/100, Train Loss: 2.4908, Val Loss: 4.8127, LR: 0.000500\n"
     ]
    },
    {
     "data": {
      "application/vnd.jupyter.widget-view+json": {
       "model_id": "65afcae576094657acbc471af6a70a84",
       "version_major": 2,
       "version_minor": 0
      },
      "text/plain": [
       "Epoch 19:   0%|          | 0/227 [00:00<?, ?it/s]"
      ]
     },
     "metadata": {},
     "output_type": "display_data"
    },
    {
     "data": {
      "application/vnd.jupyter.widget-view+json": {
       "model_id": "dd91eb2a905e4bd9b589c559333236e0",
       "version_major": 2,
       "version_minor": 0
      },
      "text/plain": [
       "Validating:   0%|          | 0/8 [00:00<?, ?it/s]"
      ]
     },
     "metadata": {},
     "output_type": "display_data"
    },
    {
     "name": "stdout",
     "output_type": "stream",
     "text": [
      "Epoch 19/100, Train Loss: 2.4596, Val Loss: 4.8239, LR: 0.000500\n"
     ]
    },
    {
     "data": {
      "application/vnd.jupyter.widget-view+json": {
       "model_id": "95e1dbc6aab5402b823051e04f788420",
       "version_major": 2,
       "version_minor": 0
      },
      "text/plain": [
       "Epoch 20:   0%|          | 0/227 [00:00<?, ?it/s]"
      ]
     },
     "metadata": {},
     "output_type": "display_data"
    },
    {
     "data": {
      "application/vnd.jupyter.widget-view+json": {
       "model_id": "7d0cd06bb9d44d0b9b71e4444cf7e6f9",
       "version_major": 2,
       "version_minor": 0
      },
      "text/plain": [
       "Validating:   0%|          | 0/8 [00:00<?, ?it/s]"
      ]
     },
     "metadata": {},
     "output_type": "display_data"
    },
    {
     "name": "stdout",
     "output_type": "stream",
     "text": [
      "Epoch 20/100, Train Loss: 2.4311, Val Loss: 4.8329, LR: 0.000500\n"
     ]
    },
    {
     "data": {
      "application/vnd.jupyter.widget-view+json": {
       "model_id": "bfd35d8ef1654b29ae0619d7910ff9e6",
       "version_major": 2,
       "version_minor": 0
      },
      "text/plain": [
       "Epoch 21:   0%|          | 0/227 [00:00<?, ?it/s]"
      ]
     },
     "metadata": {},
     "output_type": "display_data"
    },
    {
     "data": {
      "application/vnd.jupyter.widget-view+json": {
       "model_id": "0b0b38390ce04908bf61bfc38126d5ba",
       "version_major": 2,
       "version_minor": 0
      },
      "text/plain": [
       "Validating:   0%|          | 0/8 [00:00<?, ?it/s]"
      ]
     },
     "metadata": {},
     "output_type": "display_data"
    },
    {
     "name": "stdout",
     "output_type": "stream",
     "text": [
      "Epoch 21/100, Train Loss: 2.4095, Val Loss: 4.8841, LR: 0.000500\n"
     ]
    },
    {
     "data": {
      "application/vnd.jupyter.widget-view+json": {
       "model_id": "209ba762ebae48d09fcde71ab4ed6809",
       "version_major": 2,
       "version_minor": 0
      },
      "text/plain": [
       "Epoch 22:   0%|          | 0/227 [00:00<?, ?it/s]"
      ]
     },
     "metadata": {},
     "output_type": "display_data"
    },
    {
     "data": {
      "application/vnd.jupyter.widget-view+json": {
       "model_id": "30d3a5006361458b922d3a9f96576bc0",
       "version_major": 2,
       "version_minor": 0
      },
      "text/plain": [
       "Validating:   0%|          | 0/8 [00:00<?, ?it/s]"
      ]
     },
     "metadata": {},
     "output_type": "display_data"
    },
    {
     "name": "stdout",
     "output_type": "stream",
     "text": [
      "Epoch 22/100, Train Loss: 2.3898, Val Loss: 4.8665, LR: 0.000500\n"
     ]
    },
    {
     "data": {
      "application/vnd.jupyter.widget-view+json": {
       "model_id": "b3da5fb812da4dfea7abc7358c29e918",
       "version_major": 2,
       "version_minor": 0
      },
      "text/plain": [
       "Epoch 23:   0%|          | 0/227 [00:00<?, ?it/s]"
      ]
     },
     "metadata": {},
     "output_type": "display_data"
    },
    {
     "data": {
      "application/vnd.jupyter.widget-view+json": {
       "model_id": "437ad73085704dacb06e058b57768304",
       "version_major": 2,
       "version_minor": 0
      },
      "text/plain": [
       "Validating:   0%|          | 0/8 [00:00<?, ?it/s]"
      ]
     },
     "metadata": {},
     "output_type": "display_data"
    },
    {
     "name": "stdout",
     "output_type": "stream",
     "text": [
      "Epoch 23/100, Train Loss: 2.3755, Val Loss: 4.8478, LR: 0.000500\n"
     ]
    },
    {
     "data": {
      "application/vnd.jupyter.widget-view+json": {
       "model_id": "fcc5119b30d44cbfb6c221371a5568f3",
       "version_major": 2,
       "version_minor": 0
      },
      "text/plain": [
       "Epoch 24:   0%|          | 0/227 [00:00<?, ?it/s]"
      ]
     },
     "metadata": {},
     "output_type": "display_data"
    },
    {
     "data": {
      "application/vnd.jupyter.widget-view+json": {
       "model_id": "7ec6a567765e4a258e62f18ead4532eb",
       "version_major": 2,
       "version_minor": 0
      },
      "text/plain": [
       "Validating:   0%|          | 0/8 [00:00<?, ?it/s]"
      ]
     },
     "metadata": {},
     "output_type": "display_data"
    },
    {
     "name": "stdout",
     "output_type": "stream",
     "text": [
      "Epoch 24/100, Train Loss: 2.3577, Val Loss: 4.9300, LR: 0.000500\n"
     ]
    },
    {
     "data": {
      "application/vnd.jupyter.widget-view+json": {
       "model_id": "5aee82d60fea4756a1a8de95cdf9965e",
       "version_major": 2,
       "version_minor": 0
      },
      "text/plain": [
       "Epoch 25:   0%|          | 0/227 [00:00<?, ?it/s]"
      ]
     },
     "metadata": {},
     "output_type": "display_data"
    },
    {
     "data": {
      "application/vnd.jupyter.widget-view+json": {
       "model_id": "7fa260ae69cb4bbb9985dba4f59a8608",
       "version_major": 2,
       "version_minor": 0
      },
      "text/plain": [
       "Validating:   0%|          | 0/8 [00:00<?, ?it/s]"
      ]
     },
     "metadata": {},
     "output_type": "display_data"
    },
    {
     "name": "stdout",
     "output_type": "stream",
     "text": [
      "Epoch 25/100, Train Loss: 2.3400, Val Loss: 4.9805, LR: 0.000500\n"
     ]
    },
    {
     "data": {
      "application/vnd.jupyter.widget-view+json": {
       "model_id": "b52b1f9690cc4a508e40d8aa60a406a3",
       "version_major": 2,
       "version_minor": 0
      },
      "text/plain": [
       "Epoch 26:   0%|          | 0/227 [00:00<?, ?it/s]"
      ]
     },
     "metadata": {},
     "output_type": "display_data"
    },
    {
     "data": {
      "application/vnd.jupyter.widget-view+json": {
       "model_id": "84a3029a627e480bbcc9ae72ca2b4b0a",
       "version_major": 2,
       "version_minor": 0
      },
      "text/plain": [
       "Validating:   0%|          | 0/8 [00:00<?, ?it/s]"
      ]
     },
     "metadata": {},
     "output_type": "display_data"
    },
    {
     "name": "stdout",
     "output_type": "stream",
     "text": [
      "Epoch 26/100, Train Loss: 2.3269, Val Loss: 4.9554, LR: 0.000500\n"
     ]
    },
    {
     "data": {
      "application/vnd.jupyter.widget-view+json": {
       "model_id": "5b8d42f97415400b82d9d29d98bcb219",
       "version_major": 2,
       "version_minor": 0
      },
      "text/plain": [
       "Epoch 27:   0%|          | 0/227 [00:00<?, ?it/s]"
      ]
     },
     "metadata": {},
     "output_type": "display_data"
    },
    {
     "data": {
      "application/vnd.jupyter.widget-view+json": {
       "model_id": "b1f598a3289b4d818cb04d2b974654d5",
       "version_major": 2,
       "version_minor": 0
      },
      "text/plain": [
       "Validating:   0%|          | 0/8 [00:00<?, ?it/s]"
      ]
     },
     "metadata": {},
     "output_type": "display_data"
    },
    {
     "name": "stdout",
     "output_type": "stream",
     "text": [
      "Epoch 27/100, Train Loss: 2.3143, Val Loss: 5.0180, LR: 0.000500\n"
     ]
    },
    {
     "data": {
      "application/vnd.jupyter.widget-view+json": {
       "model_id": "c5dc7b4c8ad34117a86f6b59b5666b86",
       "version_major": 2,
       "version_minor": 0
      },
      "text/plain": [
       "Epoch 28:   0%|          | 0/227 [00:00<?, ?it/s]"
      ]
     },
     "metadata": {},
     "output_type": "display_data"
    },
    {
     "data": {
      "application/vnd.jupyter.widget-view+json": {
       "model_id": "dd9970e32e334da99ddee528a3f775e2",
       "version_major": 2,
       "version_minor": 0
      },
      "text/plain": [
       "Validating:   0%|          | 0/8 [00:00<?, ?it/s]"
      ]
     },
     "metadata": {},
     "output_type": "display_data"
    },
    {
     "name": "stdout",
     "output_type": "stream",
     "text": [
      "Epoch 28/100, Train Loss: 2.3029, Val Loss: 4.9772, LR: 0.000500\n"
     ]
    },
    {
     "data": {
      "application/vnd.jupyter.widget-view+json": {
       "model_id": "ef817816cde741edbd172b6d153af8e5",
       "version_major": 2,
       "version_minor": 0
      },
      "text/plain": [
       "Epoch 29:   0%|          | 0/227 [00:00<?, ?it/s]"
      ]
     },
     "metadata": {},
     "output_type": "display_data"
    },
    {
     "data": {
      "application/vnd.jupyter.widget-view+json": {
       "model_id": "ee2c04ddd6aa4173b6b2d2d4fa6fa69d",
       "version_major": 2,
       "version_minor": 0
      },
      "text/plain": [
       "Validating:   0%|          | 0/8 [00:00<?, ?it/s]"
      ]
     },
     "metadata": {},
     "output_type": "display_data"
    },
    {
     "name": "stdout",
     "output_type": "stream",
     "text": [
      "Epoch 29/100, Train Loss: 2.2952, Val Loss: 4.9758, LR: 0.000500\n"
     ]
    },
    {
     "data": {
      "application/vnd.jupyter.widget-view+json": {
       "model_id": "d71cbe3858b6426dbdb52f4c649bc8b8",
       "version_major": 2,
       "version_minor": 0
      },
      "text/plain": [
       "Epoch 30:   0%|          | 0/227 [00:00<?, ?it/s]"
      ]
     },
     "metadata": {},
     "output_type": "display_data"
    },
    {
     "data": {
      "application/vnd.jupyter.widget-view+json": {
       "model_id": "6139fab175ab485cbba02174ade5f6d6",
       "version_major": 2,
       "version_minor": 0
      },
      "text/plain": [
       "Validating:   0%|          | 0/8 [00:00<?, ?it/s]"
      ]
     },
     "metadata": {},
     "output_type": "display_data"
    },
    {
     "name": "stdout",
     "output_type": "stream",
     "text": [
      "Epoch 30/100, Train Loss: 2.2879, Val Loss: 4.9613, LR: 0.000500\n"
     ]
    },
    {
     "data": {
      "application/vnd.jupyter.widget-view+json": {
       "model_id": "ef65c766dc664d0bb1c39017c28dca72",
       "version_major": 2,
       "version_minor": 0
      },
      "text/plain": [
       "Epoch 31:   0%|          | 0/227 [00:00<?, ?it/s]"
      ]
     },
     "metadata": {},
     "output_type": "display_data"
    },
    {
     "data": {
      "application/vnd.jupyter.widget-view+json": {
       "model_id": "576bb8394b954b62be2cd0bb578ba720",
       "version_major": 2,
       "version_minor": 0
      },
      "text/plain": [
       "Validating:   0%|          | 0/8 [00:00<?, ?it/s]"
      ]
     },
     "metadata": {},
     "output_type": "display_data"
    },
    {
     "name": "stdout",
     "output_type": "stream",
     "text": [
      "Epoch 31/100, Train Loss: 2.2776, Val Loss: 5.0306, LR: 0.000500\n"
     ]
    },
    {
     "data": {
      "application/vnd.jupyter.widget-view+json": {
       "model_id": "019be9809ed8400fbe39602e1b920d77",
       "version_major": 2,
       "version_minor": 0
      },
      "text/plain": [
       "Epoch 32:   0%|          | 0/227 [00:00<?, ?it/s]"
      ]
     },
     "metadata": {},
     "output_type": "display_data"
    },
    {
     "data": {
      "application/vnd.jupyter.widget-view+json": {
       "model_id": "ca700f2da6a74a599c0745df285fe152",
       "version_major": 2,
       "version_minor": 0
      },
      "text/plain": [
       "Validating:   0%|          | 0/8 [00:00<?, ?it/s]"
      ]
     },
     "metadata": {},
     "output_type": "display_data"
    },
    {
     "name": "stdout",
     "output_type": "stream",
     "text": [
      "Epoch 32/100, Train Loss: 2.2685, Val Loss: 4.9599, LR: 0.000500\n"
     ]
    },
    {
     "data": {
      "application/vnd.jupyter.widget-view+json": {
       "model_id": "e82f2b7e9e72445ebdc8ca28bab5edde",
       "version_major": 2,
       "version_minor": 0
      },
      "text/plain": [
       "Epoch 33:   0%|          | 0/227 [00:00<?, ?it/s]"
      ]
     },
     "metadata": {},
     "output_type": "display_data"
    },
    {
     "data": {
      "application/vnd.jupyter.widget-view+json": {
       "model_id": "0967291836d54fdcb7489b4119cef84b",
       "version_major": 2,
       "version_minor": 0
      },
      "text/plain": [
       "Validating:   0%|          | 0/8 [00:00<?, ?it/s]"
      ]
     },
     "metadata": {},
     "output_type": "display_data"
    },
    {
     "name": "stdout",
     "output_type": "stream",
     "text": [
      "Epoch 33/100, Train Loss: 2.2609, Val Loss: 4.9655, LR: 0.000500\n"
     ]
    },
    {
     "data": {
      "application/vnd.jupyter.widget-view+json": {
       "model_id": "2390e031e2d84a35b99a77b2af27dab8",
       "version_major": 2,
       "version_minor": 0
      },
      "text/plain": [
       "Epoch 34:   0%|          | 0/227 [00:00<?, ?it/s]"
      ]
     },
     "metadata": {},
     "output_type": "display_data"
    },
    {
     "data": {
      "application/vnd.jupyter.widget-view+json": {
       "model_id": "44e6cea57d534da19be6c759ed0ba7b7",
       "version_major": 2,
       "version_minor": 0
      },
      "text/plain": [
       "Validating:   0%|          | 0/8 [00:00<?, ?it/s]"
      ]
     },
     "metadata": {},
     "output_type": "display_data"
    },
    {
     "name": "stdout",
     "output_type": "stream",
     "text": [
      "Epoch 34/100, Train Loss: 2.2545, Val Loss: 4.9989, LR: 0.000500\n"
     ]
    },
    {
     "data": {
      "application/vnd.jupyter.widget-view+json": {
       "model_id": "e5f6ac5a585b43bc8c4c51cb86bb9134",
       "version_major": 2,
       "version_minor": 0
      },
      "text/plain": [
       "Epoch 35:   0%|          | 0/227 [00:00<?, ?it/s]"
      ]
     },
     "metadata": {},
     "output_type": "display_data"
    },
    {
     "data": {
      "application/vnd.jupyter.widget-view+json": {
       "model_id": "7c175e815f0f403792d314663b9f9287",
       "version_major": 2,
       "version_minor": 0
      },
      "text/plain": [
       "Validating:   0%|          | 0/8 [00:00<?, ?it/s]"
      ]
     },
     "metadata": {},
     "output_type": "display_data"
    },
    {
     "name": "stdout",
     "output_type": "stream",
     "text": [
      "Epoch 35/100, Train Loss: 2.2484, Val Loss: 5.0513, LR: 0.000500\n"
     ]
    },
    {
     "data": {
      "application/vnd.jupyter.widget-view+json": {
       "model_id": "f3b2b1ff1c564f1c851db0e6c6491607",
       "version_major": 2,
       "version_minor": 0
      },
      "text/plain": [
       "Epoch 36:   0%|          | 0/227 [00:00<?, ?it/s]"
      ]
     },
     "metadata": {},
     "output_type": "display_data"
    },
    {
     "data": {
      "application/vnd.jupyter.widget-view+json": {
       "model_id": "35730a39048e4cb998f1b9a9b07b2fba",
       "version_major": 2,
       "version_minor": 0
      },
      "text/plain": [
       "Validating:   0%|          | 0/8 [00:00<?, ?it/s]"
      ]
     },
     "metadata": {},
     "output_type": "display_data"
    },
    {
     "name": "stdout",
     "output_type": "stream",
     "text": [
      "Epoch 36/100, Train Loss: 2.2417, Val Loss: 5.0794, LR: 0.000500\n"
     ]
    },
    {
     "data": {
      "application/vnd.jupyter.widget-view+json": {
       "model_id": "8b2c1842588d4e5b9c417fb942575364",
       "version_major": 2,
       "version_minor": 0
      },
      "text/plain": [
       "Epoch 37:   0%|          | 0/227 [00:00<?, ?it/s]"
      ]
     },
     "metadata": {},
     "output_type": "display_data"
    },
    {
     "data": {
      "application/vnd.jupyter.widget-view+json": {
       "model_id": "31a34ceec5c245ccbe4faf3333adc7e4",
       "version_major": 2,
       "version_minor": 0
      },
      "text/plain": [
       "Validating:   0%|          | 0/8 [00:00<?, ?it/s]"
      ]
     },
     "metadata": {},
     "output_type": "display_data"
    },
    {
     "name": "stdout",
     "output_type": "stream",
     "text": [
      "Epoch 37/100, Train Loss: 2.2336, Val Loss: 5.1317, LR: 0.000500\n"
     ]
    },
    {
     "data": {
      "application/vnd.jupyter.widget-view+json": {
       "model_id": "1007c732e61f4f419fabfe17fb40a342",
       "version_major": 2,
       "version_minor": 0
      },
      "text/plain": [
       "Epoch 38:   0%|          | 0/227 [00:00<?, ?it/s]"
      ]
     },
     "metadata": {},
     "output_type": "display_data"
    },
    {
     "data": {
      "application/vnd.jupyter.widget-view+json": {
       "model_id": "9f84ead5363c472d8a4b49856c62971f",
       "version_major": 2,
       "version_minor": 0
      },
      "text/plain": [
       "Validating:   0%|          | 0/8 [00:00<?, ?it/s]"
      ]
     },
     "metadata": {},
     "output_type": "display_data"
    },
    {
     "name": "stdout",
     "output_type": "stream",
     "text": [
      "Epoch 38/100, Train Loss: 2.2273, Val Loss: 5.1241, LR: 0.000500\n"
     ]
    },
    {
     "data": {
      "application/vnd.jupyter.widget-view+json": {
       "model_id": "e168080c26074ad6be72b1c60da9d997",
       "version_major": 2,
       "version_minor": 0
      },
      "text/plain": [
       "Epoch 39:   0%|          | 0/227 [00:00<?, ?it/s]"
      ]
     },
     "metadata": {},
     "output_type": "display_data"
    },
    {
     "data": {
      "application/vnd.jupyter.widget-view+json": {
       "model_id": "0a3966118a5b49b792dca8e6f5fc6ef9",
       "version_major": 2,
       "version_minor": 0
      },
      "text/plain": [
       "Validating:   0%|          | 0/8 [00:00<?, ?it/s]"
      ]
     },
     "metadata": {},
     "output_type": "display_data"
    },
    {
     "name": "stdout",
     "output_type": "stream",
     "text": [
      "Epoch 39/100, Train Loss: 2.2227, Val Loss: 5.1236, LR: 0.000500\n"
     ]
    },
    {
     "data": {
      "application/vnd.jupyter.widget-view+json": {
       "model_id": "bb915c0a2d5d4ebfa755fc26bf91faf1",
       "version_major": 2,
       "version_minor": 0
      },
      "text/plain": [
       "Epoch 40:   0%|          | 0/227 [00:00<?, ?it/s]"
      ]
     },
     "metadata": {},
     "output_type": "display_data"
    },
    {
     "data": {
      "application/vnd.jupyter.widget-view+json": {
       "model_id": "9bca59bde58d41548cfec522b2ffa1d5",
       "version_major": 2,
       "version_minor": 0
      },
      "text/plain": [
       "Validating:   0%|          | 0/8 [00:00<?, ?it/s]"
      ]
     },
     "metadata": {},
     "output_type": "display_data"
    },
    {
     "name": "stdout",
     "output_type": "stream",
     "text": [
      "Epoch 40/100, Train Loss: 2.2206, Val Loss: 5.0804, LR: 0.000500\n"
     ]
    },
    {
     "data": {
      "application/vnd.jupyter.widget-view+json": {
       "model_id": "468a186d882a47c780793795580c1eb1",
       "version_major": 2,
       "version_minor": 0
      },
      "text/plain": [
       "Epoch 41:   0%|          | 0/227 [00:00<?, ?it/s]"
      ]
     },
     "metadata": {},
     "output_type": "display_data"
    },
    {
     "data": {
      "application/vnd.jupyter.widget-view+json": {
       "model_id": "d465c23a737845e1ab27edc606877773",
       "version_major": 2,
       "version_minor": 0
      },
      "text/plain": [
       "Validating:   0%|          | 0/8 [00:00<?, ?it/s]"
      ]
     },
     "metadata": {},
     "output_type": "display_data"
    },
    {
     "name": "stdout",
     "output_type": "stream",
     "text": [
      "Epoch 41/100, Train Loss: 2.2215, Val Loss: 5.0751, LR: 0.000500\n"
     ]
    },
    {
     "data": {
      "application/vnd.jupyter.widget-view+json": {
       "model_id": "74b7f993b141461d9fa397d0db7938e9",
       "version_major": 2,
       "version_minor": 0
      },
      "text/plain": [
       "Epoch 42:   0%|          | 0/227 [00:00<?, ?it/s]"
      ]
     },
     "metadata": {},
     "output_type": "display_data"
    },
    {
     "data": {
      "application/vnd.jupyter.widget-view+json": {
       "model_id": "7251401bb5d84fa99123c7666885c534",
       "version_major": 2,
       "version_minor": 0
      },
      "text/plain": [
       "Validating:   0%|          | 0/8 [00:00<?, ?it/s]"
      ]
     },
     "metadata": {},
     "output_type": "display_data"
    },
    {
     "name": "stdout",
     "output_type": "stream",
     "text": [
      "Epoch 42/100, Train Loss: 2.2164, Val Loss: 5.1300, LR: 0.000500\n"
     ]
    },
    {
     "data": {
      "application/vnd.jupyter.widget-view+json": {
       "model_id": "372686e317b0457c835907a7afc45678",
       "version_major": 2,
       "version_minor": 0
      },
      "text/plain": [
       "Epoch 43:   0%|          | 0/227 [00:00<?, ?it/s]"
      ]
     },
     "metadata": {},
     "output_type": "display_data"
    },
    {
     "data": {
      "application/vnd.jupyter.widget-view+json": {
       "model_id": "80df135a036e4d229bfd4c9ac87297b1",
       "version_major": 2,
       "version_minor": 0
      },
      "text/plain": [
       "Validating:   0%|          | 0/8 [00:00<?, ?it/s]"
      ]
     },
     "metadata": {},
     "output_type": "display_data"
    },
    {
     "name": "stdout",
     "output_type": "stream",
     "text": [
      "Epoch 43/100, Train Loss: 2.2092, Val Loss: 5.1340, LR: 0.000500\n"
     ]
    },
    {
     "data": {
      "application/vnd.jupyter.widget-view+json": {
       "model_id": "45a5c13e028e4881bc6d54f1beb14227",
       "version_major": 2,
       "version_minor": 0
      },
      "text/plain": [
       "Epoch 44:   0%|          | 0/227 [00:00<?, ?it/s]"
      ]
     },
     "metadata": {},
     "output_type": "display_data"
    },
    {
     "data": {
      "application/vnd.jupyter.widget-view+json": {
       "model_id": "5e6ca7c8157a4d08b4507e42cf1b0c2b",
       "version_major": 2,
       "version_minor": 0
      },
      "text/plain": [
       "Validating:   0%|          | 0/8 [00:00<?, ?it/s]"
      ]
     },
     "metadata": {},
     "output_type": "display_data"
    },
    {
     "name": "stdout",
     "output_type": "stream",
     "text": [
      "Epoch 44/100, Train Loss: 2.2065, Val Loss: 5.1731, LR: 0.000500\n"
     ]
    },
    {
     "data": {
      "application/vnd.jupyter.widget-view+json": {
       "model_id": "f31787695d9f44cdb8b706e3060ce185",
       "version_major": 2,
       "version_minor": 0
      },
      "text/plain": [
       "Epoch 45:   0%|          | 0/227 [00:00<?, ?it/s]"
      ]
     },
     "metadata": {},
     "output_type": "display_data"
    },
    {
     "data": {
      "application/vnd.jupyter.widget-view+json": {
       "model_id": "6d54c2fc4a6347d79f907fdc6b40c075",
       "version_major": 2,
       "version_minor": 0
      },
      "text/plain": [
       "Validating:   0%|          | 0/8 [00:00<?, ?it/s]"
      ]
     },
     "metadata": {},
     "output_type": "display_data"
    },
    {
     "name": "stdout",
     "output_type": "stream",
     "text": [
      "Epoch 45/100, Train Loss: 2.2013, Val Loss: 5.1720, LR: 0.000500\n"
     ]
    },
    {
     "data": {
      "application/vnd.jupyter.widget-view+json": {
       "model_id": "21ba0e3606194194a48e403f90d127d3",
       "version_major": 2,
       "version_minor": 0
      },
      "text/plain": [
       "Epoch 46:   0%|          | 0/227 [00:00<?, ?it/s]"
      ]
     },
     "metadata": {},
     "output_type": "display_data"
    },
    {
     "data": {
      "application/vnd.jupyter.widget-view+json": {
       "model_id": "6fdb2392c4a14985843d50f1ac4a1109",
       "version_major": 2,
       "version_minor": 0
      },
      "text/plain": [
       "Validating:   0%|          | 0/8 [00:00<?, ?it/s]"
      ]
     },
     "metadata": {},
     "output_type": "display_data"
    },
    {
     "name": "stdout",
     "output_type": "stream",
     "text": [
      "Epoch 46/100, Train Loss: 2.1997, Val Loss: 5.1242, LR: 0.000500\n"
     ]
    },
    {
     "data": {
      "application/vnd.jupyter.widget-view+json": {
       "model_id": "7f98cc0904474a7bb4ab33e2ea724af5",
       "version_major": 2,
       "version_minor": 0
      },
      "text/plain": [
       "Epoch 47:   0%|          | 0/227 [00:00<?, ?it/s]"
      ]
     },
     "metadata": {},
     "output_type": "display_data"
    },
    {
     "data": {
      "application/vnd.jupyter.widget-view+json": {
       "model_id": "c512ecb9276c427e8a18fd9248c5bbb4",
       "version_major": 2,
       "version_minor": 0
      },
      "text/plain": [
       "Validating:   0%|          | 0/8 [00:00<?, ?it/s]"
      ]
     },
     "metadata": {},
     "output_type": "display_data"
    },
    {
     "name": "stdout",
     "output_type": "stream",
     "text": [
      "Epoch 47/100, Train Loss: 2.1954, Val Loss: 5.1828, LR: 0.000500\n"
     ]
    },
    {
     "data": {
      "application/vnd.jupyter.widget-view+json": {
       "model_id": "33eb85fc33d2412290a6f8e5703970bd",
       "version_major": 2,
       "version_minor": 0
      },
      "text/plain": [
       "Epoch 48:   0%|          | 0/227 [00:00<?, ?it/s]"
      ]
     },
     "metadata": {},
     "output_type": "display_data"
    },
    {
     "data": {
      "application/vnd.jupyter.widget-view+json": {
       "model_id": "13e72ba4e719459e8ec9daa4238e90ce",
       "version_major": 2,
       "version_minor": 0
      },
      "text/plain": [
       "Validating:   0%|          | 0/8 [00:00<?, ?it/s]"
      ]
     },
     "metadata": {},
     "output_type": "display_data"
    },
    {
     "name": "stdout",
     "output_type": "stream",
     "text": [
      "Epoch 48/100, Train Loss: 2.1887, Val Loss: 5.2166, LR: 0.000500\n"
     ]
    },
    {
     "data": {
      "application/vnd.jupyter.widget-view+json": {
       "model_id": "55c90f66913e4432a2cbae4eabff865c",
       "version_major": 2,
       "version_minor": 0
      },
      "text/plain": [
       "Epoch 49:   0%|          | 0/227 [00:00<?, ?it/s]"
      ]
     },
     "metadata": {},
     "output_type": "display_data"
    },
    {
     "data": {
      "application/vnd.jupyter.widget-view+json": {
       "model_id": "a18df5c6fc9349bb939a1f8c4787b438",
       "version_major": 2,
       "version_minor": 0
      },
      "text/plain": [
       "Validating:   0%|          | 0/8 [00:00<?, ?it/s]"
      ]
     },
     "metadata": {},
     "output_type": "display_data"
    },
    {
     "name": "stdout",
     "output_type": "stream",
     "text": [
      "Epoch 49/100, Train Loss: 2.1864, Val Loss: 5.1649, LR: 0.000500\n"
     ]
    },
    {
     "data": {
      "application/vnd.jupyter.widget-view+json": {
       "model_id": "3b4ee6cd4e3646c9af9240eccf7c2b41",
       "version_major": 2,
       "version_minor": 0
      },
      "text/plain": [
       "Epoch 50:   0%|          | 0/227 [00:00<?, ?it/s]"
      ]
     },
     "metadata": {},
     "output_type": "display_data"
    },
    {
     "data": {
      "application/vnd.jupyter.widget-view+json": {
       "model_id": "513c387b8b2a4be9b8d569556d7cf9bc",
       "version_major": 2,
       "version_minor": 0
      },
      "text/plain": [
       "Validating:   0%|          | 0/8 [00:00<?, ?it/s]"
      ]
     },
     "metadata": {},
     "output_type": "display_data"
    },
    {
     "name": "stdout",
     "output_type": "stream",
     "text": [
      "Epoch 50/100, Train Loss: 2.1820, Val Loss: 5.1470, LR: 0.000500\n"
     ]
    },
    {
     "data": {
      "application/vnd.jupyter.widget-view+json": {
       "model_id": "9c10929ff75746758302747bde7ded46",
       "version_major": 2,
       "version_minor": 0
      },
      "text/plain": [
       "Epoch 51:   0%|          | 0/227 [00:00<?, ?it/s]"
      ]
     },
     "metadata": {},
     "output_type": "display_data"
    },
    {
     "data": {
      "application/vnd.jupyter.widget-view+json": {
       "model_id": "bb1cd239089d4a81a776a3f5c65d8c2e",
       "version_major": 2,
       "version_minor": 0
      },
      "text/plain": [
       "Validating:   0%|          | 0/8 [00:00<?, ?it/s]"
      ]
     },
     "metadata": {},
     "output_type": "display_data"
    },
    {
     "name": "stdout",
     "output_type": "stream",
     "text": [
      "Epoch 51/100, Train Loss: 2.1788, Val Loss: 5.1545, LR: 0.000500\n"
     ]
    },
    {
     "data": {
      "application/vnd.jupyter.widget-view+json": {
       "model_id": "465fefce84cf46f6ad78ccd31f5af369",
       "version_major": 2,
       "version_minor": 0
      },
      "text/plain": [
       "Epoch 52:   0%|          | 0/227 [00:00<?, ?it/s]"
      ]
     },
     "metadata": {},
     "output_type": "display_data"
    },
    {
     "data": {
      "application/vnd.jupyter.widget-view+json": {
       "model_id": "9c8c6d3f09de4ae180542b4abb3b02c4",
       "version_major": 2,
       "version_minor": 0
      },
      "text/plain": [
       "Validating:   0%|          | 0/8 [00:00<?, ?it/s]"
      ]
     },
     "metadata": {},
     "output_type": "display_data"
    },
    {
     "name": "stdout",
     "output_type": "stream",
     "text": [
      "Epoch 52/100, Train Loss: 2.1758, Val Loss: 5.1279, LR: 0.000500\n"
     ]
    },
    {
     "data": {
      "application/vnd.jupyter.widget-view+json": {
       "model_id": "ea601455dd8d4505bea61eff86feee50",
       "version_major": 2,
       "version_minor": 0
      },
      "text/plain": [
       "Epoch 53:   0%|          | 0/227 [00:00<?, ?it/s]"
      ]
     },
     "metadata": {},
     "output_type": "display_data"
    },
    {
     "data": {
      "application/vnd.jupyter.widget-view+json": {
       "model_id": "ddae9b0f67f7423b94aefe56a4ea7159",
       "version_major": 2,
       "version_minor": 0
      },
      "text/plain": [
       "Validating:   0%|          | 0/8 [00:00<?, ?it/s]"
      ]
     },
     "metadata": {},
     "output_type": "display_data"
    },
    {
     "name": "stdout",
     "output_type": "stream",
     "text": [
      "Epoch 53/100, Train Loss: 2.1728, Val Loss: 5.2796, LR: 0.000500\n",
      "Early stopping after 53 epochs\n"
     ]
    },
    {
     "data": {
      "image/png": "[encoded data removed]",
      "text/plain": [
       "<Figure size 1000x600 with 1 Axes>"
      ]
     },
     "metadata": {},
     "output_type": "display_data"
    }
   ],
   "source": [
    "train_losses = []\n",
    "val_losses = []\n",
    "best_val_loss = float('inf')\n",
    "patience = 50  #Increased patience\n",
    "early_stop_counter = 0\n",
    "\n",
    "\n",
    "print(\"Starting training...\")\n",
    "\n",
    "for epoch in range(NUM_EPOCHS):\n",
    "    # Train\n",
    "    train_loss = train_epoch(model, train_dataloader, optimizer, criterion, epoch)\n",
    "    train_losses.append(train_loss)\n",
    "    \n",
    "    # Validate\n",
    "    val_loss = validate(model, val_dataloader, criterion)\n",
    "    val_losses.append(val_loss)\n",
    "    \n",
    "    # Update learning rate based on validation performance\n",
    "    scheduler.step(val_loss)\n",
    "    \n",
    "    print(f\"Epoch {epoch+1}/{NUM_EPOCHS}, Train Loss: {train_loss:.4f}, Val Loss: {val_loss:.4f}, LR: {optimizer.param_groups[0]['lr']:.6f}\")\n",
    "    \n",
    "    # Save best model\n",
    "    if val_loss < best_val_loss:\n",
    "        best_val_loss = val_loss\n",
    "        torch.save({\n",
    "            'model_state_dict': model.state_dict(),\n",
    "            'optimizer_state_dict': optimizer.state_dict(),\n",
    "            'scheduler_state_dict': scheduler.state_dict(),\n",
    "            'epoch': epoch,\n",
    "            'val_loss': val_loss,\n",
    "            'de_vocab_dict': {\n",
    "                'token_to_idx': de_vocab.token_to_idx,\n",
    "                'idx_to_token': de_vocab.idx_to_token,\n",
    "                'freqs': de_vocab.freqs,\n",
    "                'unk_idx': de_vocab.unk_idx\n",
    "            },\n",
    "            'en_vocab_dict': {\n",
    "                'token_to_idx': en_vocab.token_to_idx,\n",
    "                'idx_to_token': en_vocab.idx_to_token,\n",
    "                'freqs': en_vocab.freqs,\n",
    "                'unk_idx': en_vocab.unk_idx\n",
    "            },\n",
    "            'model_hyperparams': {\n",
    "                'd_model': D_MODEL,\n",
    "                'nhead': NHEAD,\n",
    "                'num_encoder_layers': NUM_ENCODER_LAYERS,\n",
    "                'num_decoder_layers': NUM_DECODER_LAYERS,\n",
    "                'dim_feedforward': DIM_FEEDFORWARD,\n",
    "                'dropout': DROPOUT\n",
    "            }\n",
    "        }, 'best_transformer_model.pt')\n",
    "        print(f\"Saved best model with validation loss: {best_val_loss:.4f}\")\n",
    "        early_stop_counter = 0\n",
    "    else:\n",
    "        early_stop_counter += 1\n",
    "    \n",
    "    # Early stopping\n",
    "    if early_stop_counter >= patience:\n",
    "        print(f\"Early stopping after {epoch+1} epochs\")\n",
    "        break\n",
    "\n",
    "# Plot training and validation loss\n",
    "plt.figure(figsize=(10, 6))\n",
    "plt.plot(train_losses, label='Train Loss')\n",
    "plt.plot(val_losses, label='Validation Loss')\n",
    "plt.xlabel('Epoch')\n",
    "plt.ylabel('Loss')\n",
    "plt.legend()\n",
    "plt.title('Training and Validation Loss')\n",
    "plt.savefig('loss_plot.png')\n",
    "plt.show()"
   ]
  },
  {
   "cell_type": "code",
   "execution_count": 39,
   "id": "7f2b98ae-a544-4f2a-aa1d-e00ac63f900b",
   "metadata": {},
   "outputs": [
    {
     "name": "stdout",
     "output_type": "stream",
     "text": [
      "Loaded best model for evaluation\n"
     ]
    }
   ],
   "source": [
    "try:\n",
    "    model = load_model('best_transformer_model.pt', de_vocab, en_vocab)\n",
    "    print(\"Loaded best model for evaluation\")\n",
    "except FileNotFoundError:\n",
    "    print(\"Using the last trained model for evaluation\")"
   ]
  },
  {
   "cell_type": "code",
   "execution_count": 40,
   "id": "207690a9-348f-409f-9b79-630454d62dc7",
   "metadata": {},
   "outputs": [],
   "source": [
    "test_sentences = [\n",
    "    \"Ich gehe zur Schule.\",\n",
    "    \"Obwohl es regnete, ging sie ohne Regenschirm spazieren.\",\n",
    "    \"Der Klimawandel ist ein globales Problem.\",\n",
    "    \"Berlin ist die Hauptstadt von Deutschland.\",\n",
    "    \"Ein weißer Hund mit einem Halsband läuft auf einer eingezäunten Rasenfläche umher.\"\n",
    "]"
   ]
  },
  {
   "cell_type": "code",
   "execution_count": 41,
   "id": "4c140bc2-4b9f-4bc2-9de4-c5c21338ad06",
   "metadata": {},
   "outputs": [
    {
     "name": "stdout",
     "output_type": "stream",
     "text": [
      "\n",
      "Translation Examples:\n",
      "German: Ich gehe zur Schule.\n",
      "English (model): a man in a white shirt and blue jeans is walking down the street . </s>\n",
      "--------------------------------------------------\n",
      "German: Obwohl es regnete, ging sie ohne Regenschirm spazieren.\n",
      "English (model): a man in a white shirt and blue jeans is walking down the street . </s>\n",
      "--------------------------------------------------\n",
      "German: Der Klimawandel ist ein globales Problem.\n",
      "English (model): a man in a white shirt and blue jeans is walking down the street . </s>\n",
      "--------------------------------------------------\n",
      "German: Berlin ist die Hauptstadt von Deutschland.\n",
      "English (model): a man in a white shirt and blue jeans is walking down the street . </s>\n",
      "--------------------------------------------------\n",
      "German: Ein weißer Hund mit einem Halsband läuft auf einer eingezäunten Rasenfläche umher.\n",
      "English (model): a man in a white shirt and blue jeans is walking down the street . </s>\n",
      "--------------------------------------------------\n"
     ]
    }
   ],
   "source": [
    "print(\"\\nTranslation Examples:\")\n",
    "for sentence in test_sentences:\n",
    "    translation = translate(model, sentence, tokenize_de, en_vocab, de_vocab)\n",
    "    print(f\"German: {sentence}\")\n",
    "    print(f\"English (model): {translation}\")\n",
    "    print(\"-\" * 50)\n",
    "\n",
    "# print(\"\\nEvaluating model on test set...\")\n",
    "# bleu, references, hypotheses = evaluate_model(model, test_dataloader, de_vocab, en_vocab, num_examples=100)\n",
    "# print(f\"BLEU Score: {bleu:.4f}\")\n",
    "\n",
    "# print(\"\\nTest Set Translation Examples:\")\n",
    "# for i in range(min(5, len(hypotheses))):\n",
    "#     print(f\"Reference: {' '.join(references[i][0])}\")\n",
    "#     print(f\"Hypothesis: {' '.join(hypotheses[i])}\")\n",
    "#     print(\"-\" * 50)\n"
   ]
  }
 ],
 "metadata": {
  "kernelspec": {
   "display_name": "Python 3 (ipykernel)",
   "language": "python",
   "name": "python3"
  },
  "language_info": {
   "codemirror_mode": {
    "name": "ipython",
    "version": 3
   },
   "file_extension": ".py",
   "mimetype": "text/x-python",
   "name": "python",
   "nbconvert_exporter": "python",
   "pygments_lexer": "ipython3",
   "version": "3.12.3"
  }
 },
 "nbformat": 4,
 "nbformat_minor": 5
}
